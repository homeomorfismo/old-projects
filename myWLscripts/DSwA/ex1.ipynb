{
  "cells": [
    {
      "cell_type": "markdown",
      "source": [
        "# Primer capítulo\n",
        "En este capítulo se revisan ecuaciones diferenciales ordinarias y métodos básicos para su resolución. Despues se ven ecuaciones autónomas, y se realiza el análisis de puntos críticos.\n",
        "\n",
        "## Métodos\n",
        "En general consideramos una \\\\( f: {\\bf X} \\times \\mathbb R \\to X \\\\) *regular* (con \\\\( {\\bf X} =\\mathbb R^N \\\\) ). Considerar el sistema\n",
        "\n",
        "\\\\[ \\dot{ \\bf x }(t) = f({\\bf x}(t),t).\\\\]\n",
        "\n",
        "**IMPORTANTE:** Los siguientes métodos se estudian cuando \\\\(N =1\\\\). Anotamos \\\\( {\\bf x} = x \\\\).\n",
        "\n",
        "### EDs separables\n",
        "Aparecen cuando \\\\( f( x , t) = \\phi(x) \\psi(t) \\\\). Basta separar las variables.\n",
        "\n",
        "### EDs exactas\n",
        "Consideramos la forma \n",
        "\n",
        "\\\\[ M(x(t),t) + N(x(t),t)\\dot{ x }(t) = 0.\\\\]\n",
        "\n",
        "Si consideramos la forma diferencial asociada\n",
        "\n",
        "\\\\[ M(x,t)\\ {\\rm d}t + N(x,t)\\ {\\rm d}x = 0,\\\\]\n",
        "\n",
        "esperamos que sea *exacta*, o sea, que provenga de una *prmitiva/potencial*. Debe verificar\n",
        "\n",
        "\\\\[\\dfrac{\\partial M}{\\partial x}=\\dfrac{\\partial N}{\\partial t}.\\\\]\n",
        "\n",
        "En tal caso existe \\\\(F\\\\) tal que\n",
        "\n",
        "\\\\[\\dfrac{\\partial F}{\\partial t}=M, \\ \\dfrac{\\partial F}{\\partial x}=N,\\\\]\n",
        "\n",
        "y la solución queda descrita por\n",
        "\n",
        "\\\\[ F(t,x) = C \\\\]\n",
        "\n",
        "con \\\\(C\\\\) constante determinada por la condición inicial."
      ],
      "metadata": {}
    },
    {
      "cell_type": "markdown",
      "source": [
        "### EDs Homogeneas\n",
        "Aparecen cuando \\\\( f(x,t) = \\phi\\left( \\dfrac{x}{t} \\right) \\\\). Basta hacer el cambio de variables \\\\( v = \\dfrac{x}{t} \\\\).\n"
      ],
      "metadata": {}
    },
    {
      "cell_type": "markdown",
      "source": [
        "### EDs Lineales\n",
        "Son de la forma\n",
        "\n",
        "\\\\[ \\dot{x} + P(t)x = Q(t). \\\\]\n",
        "\n",
        "Buscamos \\\\( J(t) \\\\) tal que\n",
        "\n",
        "\\\\[ \\dfrac{ {\\rm d} }{{\\rm d} t}(J x) = J \\dot{x} + P x, \\\\]\n",
        "\n",
        "o sea, \\\\( \\dot{ J } = J P \\\\). Dicha solución corresponde a \\\\( J(t) := \\exp\\left( \\int P(t) \\ {\\rm d} t \\right)\\\\).\n",
        "\n",
        "Finalmente se resuelve\n",
        "\n",
        "\\\\[ \\dfrac{ {\\rm d} }{{\\rm d} t}(J x) = J Q. \\\\]"
      ],
      "metadata": {}
    },
    {
      "cell_type": "markdown",
      "source": [
        "## Existencia y Unicidad para EDs Autónomas\n",
        "Si \\\\( f \\\\) es independiente de \\\\( t \\\\), del tipo Lipschitz, la ED tiene existencia y unicidad de soluciones para un *intervalo maximal de existencia*.\n",
        "\n",
        "> \\\\( f : \\mathbb{R}^N \\to \\mathbb{R}^N \\\\) se dice *Lipschitz* si existe constante \\\\( L > 0 \\\\) tal que \\\\[ \\| f({\\bf x}) - f({\\bf y}) \\| \\leq L \\| {\\bf x}-{\\bf y}\\|. \\\\]\n",
        "\n",
        "En tal caso, la solución del sistema\n",
        "\n",
        "\\\\[ \\dot{ \\bf x }(t) = f({\\bf x}(t)) \\\\]\n",
        "\n",
        "para un valor inicial \\\\( {\\bf x}_0 \\in D \\\\), se anota \\\\( \\phi_t({\\bf x}_0) \\\\)."
      ],
      "metadata": {}
    },
    {
      "cell_type": "markdown",
      "source": [
        "## Clasificación de Puntos de interés\n",
        "### Puntos críticos\n",
        "Tambien conocidos como puntos fijos o *estacionarios*, son los que corresponden a los puntos \\\\( \\hat{\\bf x} \\\\) donde \\\\( f(\\hat{\\bf x} ) = 0 \\\\). Si una solución inicia en estos puntos, permanece constante.\n",
        "### Puntos estables e inestables\n",
        "Un punto crítico \\\\( \\hat{\\bf x} \\\\) se dice estable si dado \\\\( \\varepsilon > 0 \\\\) existe \\\\( \\delta >0 \\\\) tal que para todo \\\\( t \\geq t_0 \\\\),\n",
        "\n",
        "\\\\[ \\| {\\bf x}(t) - \\hat{\\bf x}(t) \\| < \\varepsilon, \\\\]\n",
        "\n",
        "siempre que \\\\( \\| {\\bf x}(t_0) - \\hat{\\bf x}(t_0) \\| < \\delta, \\\\) con \\\\( {\\bf x}(t) \\\\) solución. En caso contrario se dice intestable."
      ],
      "metadata": {}
    },
    {
      "cell_type": "markdown",
      "source": [
        "## Análisis Lineal \n",
        "Volveremos al caso unidimensional. Sea \\\\( x^* \\\\) punto crítico de\n",
        "\n",
        "\\\\[ \\dot x = f(x). \\\\]\n",
        "\n",
        "Consideremos una perturbación del punto crítico \\\\( x(t) := x^* + \\xi(t) \\\\). Usando series de Taylor tenemos\n",
        "\n",
        "\\\\[ \\dot \\xi = \\dot x = f(x) = f(x^* + \\xi ) = f(x^*) + \\xi\\ f'(x^*) + \\dfrac{\\xi^2}{2} f''(x^*) + \\cdots. \\\\]\n",
        "\n",
        "Ignorando términos de orden mayor, tenemos el sistema\n",
        "\n",
        "\\\\[ \\dot \\xi = \\xi f'(x^*). \\\\]\n",
        "\n",
        "> \\\\( \\xi(t) \\\\) crece de manera exponencial si \\\\( f'(x^*) > 0 \\\\), y decae de manera exponencial si \\\\( f'(x^*) < 0 \\\\). De ser la derivada nula, es requerido un análisis de orden mayor."
      ],
      "metadata": {}
    },
    {
      "cell_type": "markdown",
      "source": [
        "## Resolución en WL\n",
        "`DSolve[]` resuelve de manera *analítica* y `NDSolve[]` de manera numérica."
      ],
      "metadata": {}
    },
    {
      "cell_type": "code",
      "source": [
        "DSolve[x'[t]==-t/x[t],x[t],t]"
      ],
      "outputs": [
        {
          "output_type": "execute_result",
          "execution_count": 1,
          "data": {
            "text/html": "<div><img alt=\"Output\" src=\"data:image/png;base64,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\"></div>",
            "text/plain": "                  2                             2\n{{x[t] -> -Sqrt[-t  + 2 C[1]]}, {x[t] -> Sqrt[-t  + 2 C[1]]}}"
          },
          "metadata": {
            "text/html": [],
            "text/plain": []
          }
        }
      ],
      "execution_count": 1,
      "metadata": {}
    },
    {
      "cell_type": "code",
      "source": [
        "k   = .00713;\n",
        "a0  = 4;\n",
        "b0  = 1;\n",
        "sol = NDSolve[{c'[t]==k(a0-c[t]^2)(b0-c[t]/2),c[0]==0},c,{t,0,400}]\n",
        "\n",
        "Plot[Evaluate[c[t] /. sol],{t,0,400}]"
      ],
      "outputs": [
        {
          "output_type": "execute_result",
          "execution_count": 5,
          "data": {
            "text/html": "<style>\n\t\t\t\t\t\t\t\t\t\t\t\t\t.grid-container {\n\t\t\t\t\t\t\t\t\t\t\t\t\t\tdisplay: inline-grid;\n\t\t\t\t\t\t\t\t\t\t\t\t\t\tgrid-template-columns: auto;\n\t\t\t\t\t\t\t\t\t\t\t\t\t}\n\t\t\t\t\t\t\t\t\t\t\t\t</style>\n\n\t\t\t\t\t\t\t\t\t\t\t\t<div><div class=\"grid-container\"><div class=\"grid-item\"><img alt=\"Output\" src=\"data:image/png;base64,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\"></div><div class=\"grid-item\"><img alt=\"Output\" src=\"data:image/png;base64,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\"></div></div></div>",
            "text/plain": "{{c -> InterpolatingFunction[{{0., 400.}}, <>]}}\n-Graphics-"
          },
          "metadata": {
            "text/html": [],
            "text/plain": []
          }
        }
      ],
      "execution_count": 2,
      "metadata": {}
    },
    {
      "cell_type": "code",
      "source": [
        "DSolve[ {x'[t] == -a x[t],\n",
        "         y'[t] == a x[t]-b y[t],\n",
        "         z'[t] == b y[t],\n",
        "         x[0] == M, y[0] == 0, z[0] == 0},\n",
        "         {x[t], y[t], z[t]},\n",
        "         t]"
      ],
      "outputs": [
        {
          "output_type": "execute_result",
          "execution_count": 16,
          "data": {
            "text/html": "<div><img alt=\"Output\" src=\"data:image/png;base64,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\"></div>",
            "text/plain": "                             -(a t) - b t    a t    b t\n           M              a E             (-E    + E   ) M\n{{x[t] -> ----, y[t] -> -(--------------------------------), \n           a t                         a - b\n          E\n \n              -(a t) - b t       a t       b t      a t + b t      a t + b t\n             E             (-(a E   ) + b E    + a E          - b E         ) M\n>    z[t] -> ------------------------------------------------------------------}}\n                                           a - b"
          },
          "metadata": {
            "text/html": [],
            "text/plain": []
          }
        }
      ],
      "execution_count": 16,
      "metadata": {}
    },
    {
      "cell_type": "markdown",
      "source": [
        "## Ejercicios y Ejemplos\n",
        "\n",
        "### Ejemplos\n",
        "1. Van der Pol.\n"
      ],
      "metadata": {}
    },
    {
      "cell_type": "code",
      "source": [
        "DEqn = x''[t]+2*(x[t]^2-1)*x'[t]+x[t];\n",
        "Ser = Series[DEqn,{t,0,6}];\n",
        "Serone = Ser/.{x[0]->5,x'[0]->0};\n",
        "Eqns = LogicalExpand[Serone==0];\n",
        "Coeffs = Solve[Eqns];\n",
        "Serx = Series[x[t],{t,0,5}];\n",
        "ApproxSol = Normal[Serx]/.{x[0]->5,x'[0]->0}/.Coeffs[[1]]\n",
        "Plot[ApproxSol,{t,0,0.08}]"
      ],
      "outputs": [
        {
          "output_type": "execute_result",
          "execution_count": 18,
          "data": {
            "text/html": "<style>\n\t\t\t\t\t\t\t\t\t\t\t\t\t.grid-container {\n\t\t\t\t\t\t\t\t\t\t\t\t\t\tdisplay: inline-grid;\n\t\t\t\t\t\t\t\t\t\t\t\t\t\tgrid-template-columns: auto;\n\t\t\t\t\t\t\t\t\t\t\t\t\t}\n\t\t\t\t\t\t\t\t\t\t\t\t</style>\n\n\t\t\t\t\t\t\t\t\t\t\t\t<div><div class=\"grid-container\"><div class=\"grid-item\"><img alt=\"Output\" src=\"data:image/png;base64,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\"></div><div class=\"grid-item\"><img alt=\"Output\" src=\"data:image/png;base64,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\"></div></div></div>",
            "text/plain": "       2                  4         5\n    5 t        3   11515 t    9183 t\n5 - ---- + 40 t  - -------- + -------\n     2                24         2\n-Graphics-"
          },
          "metadata": {
            "text/html": [],
            "text/plain": []
          }
        }
      ],
      "execution_count": 12,
      "metadata": {}
    },
    {
      "cell_type": "code",
      "source": [],
      "outputs": [],
      "execution_count": null,
      "metadata": {}
    }
  ],
  "metadata": {
    "kernelspec": {
      "display_name": "Wolfram Language 12.1",
      "language": "Wolfram Language",
      "name": "wolframlanguage12.1"
    },
    "language_info": {
      "codemirror_mode": "mathematica",
      "file_extension": ".m",
      "mimetype": "application/vnd.wolfram.m",
      "name": "Wolfram Language",
      "pygments_lexer": "mathematica",
      "version": "12.0"
    },
    "nteract": {
      "version": "0.28.0"
    }
  },
  "nbformat": 4,
  "nbformat_minor": 4
}