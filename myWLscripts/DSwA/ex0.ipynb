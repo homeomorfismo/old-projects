{
 "cells": [
  {
   "cell_type": "markdown",
   "metadata": {},
   "source": [
    "# Capítulo 0\n",
    "## Primera parte: aritmética\n",
    "\n",
    "Realizar operaciones básicas como calculas funciones tradicionales, e.g. $ \\sin(x), \\cos(x), e^x$."
   ]
  },
  {
   "cell_type": "code",
   "execution_count": 15,
   "metadata": {},
   "outputs": [
    {
     "name": "stdout",
     "output_type": "stream",
     "text": [
      "Exercice 1\n"
     ]
    },
    {
     "data": {
      "text/html": [
       "<style>\n",
       "\t\t\t\t\t\t\t\t\t\t\t\t\t.grid-container {\n",
       "\t\t\t\t\t\t\t\t\t\t\t\t\t\tdisplay: inline-grid;\n",
       "\t\t\t\t\t\t\t\t\t\t\t\t\t\tgrid-template-columns: auto;\n",
       "\t\t\t\t\t\t\t\t\t\t\t\t\t}\n",
       "\t\t\t\t\t\t\t\t\t\t\t\t</style>\n",
       "\n",
       "\t\t\t\t\t\t\t\t\t\t\t\t<div><div class=\"grid-container\"><div class=\"grid-item\"><img alt=\"Output\" src=\"data:image/png;base64,iVBORw0KGgoAAAANSUhEUgAAAAcAAAAPCAIAAACnY0LpAAAAq3pUWHRSYXcgcHJvZmlsZSB0eXBlIGV4aWYAAHjaVU7bDQMhDPtnio6QFw6Mg+5A6gYdv+buVKlWiB3LiSjz817ltaHWStRs6IAQ0aPboGhyw1kqKkaOx7IfX74+frlPiNhoTbap97zOdeE5KeFpqNAM9jDJRKduVOyoxaQmFg6AQcVpEgd5IpNrSFQTH3txw2b+pyec88kfublcb7iSx564qp7U5o29emXwCz6vO1BjF9i5AAAACXBIWXMAAAsTAAALEwEAmpwYAAAAPHRFWHRTb2Z0d2FyZQBDcmVhdGVkIHdpdGggdGhlIFdvbGZyYW0gTGFuZ3VhZ2UgOiB3d3cud29sZnJhbS5jb21coqaFAAAAIXRFWHRDcmVhdGlvbiBUaW1lADIwMjA6MTI6MDIgMTc6Mjg6NTUn3evQAAAAXUlEQVQYlWP8//8/AwZgwhQiUZTh////29LgPKsJt/////+f4T8SuD3BCiKOYYKOmgrEBIQZUANQTfi/LY2BIW0bugmeAWkMV27dYcBQazXh9v//DNgc9p+R4nAAAAkSXkxiyvnPAAAAAElFTkSuQmCC\"></div><div class=\"grid-item\"><img alt=\"Output\" src=\"data:image/png;base64,iVBORw0KGgoAAAANSUhEUgAAACwAAAAPCAIAAAAQ3rrOAAAAq3pUWHRSYXcgcHJvZmlsZSB0eXBlIGV4aWYAAHjaVU7bDQMhDPtnio6QFw6Mg+5A6gYdv+buVKlWiB3LiSjz817ltaHWStRs6IAQ0aPboGhyw1kqKkaOx7IfX74+frlPiNhoTbap97zOdeE5KeFpqNAM9jDJRKduVOyoxaQmFg6AQcVpEgd5IpNrSFQTH3txw2b+pyec88kfublcb7iSx564qp7U5o29emXwCz6vO1BjF9i5AAAACXBIWXMAAAsTAAALEwEAmpwYAAAAPHRFWHRTb2Z0d2FyZQBDcmVhdGVkIHdpdGggdGhlIFdvbGZyYW0gTGFuZ3VhZ2UgOiB3d3cud29sZnJhbS5jb21coqaFAAAAIXRFWHRDcmVhdGlvbiBUaW1lADIwMjA6MTI6MDIgMTc6Mjg6NTUn3evQAAABBElEQVQ4je2VMRKCMBBFP5wFLBxOEE+gB7ClS0ps7DxELLGz9QDJCbyBYxPuEosECGEBOy345d+dn5fdzCSx1uLXSn8NAKwQvVKgue6SXkK7ghadtbs2Xb9vbrtiuXJUHZlxiJ8EV9ar3jtnX3vDSJxKh6FFUuJuJJu4kRb5o+Bs3iRCvltHsck82LPKppq0OLzk/bxdMIkQD3E7jCfvF5I/jqYdz4zcaVE6aY6VAln1DCafd5tqF3J555NvIDgNKr4gaZKyoYxkYNLYoRQfmEay4A21TizG48cBBDGDkAGE4lhmICBioFGV5g4hgnv0hylO4AcmAJAoixBESGLXv8PpLyA+mhB4gKsU7WQAAAAASUVORK5CYII=\"></div><div class=\"grid-item\"><img alt=\"Output\" src=\"data:image/png;base64,iVBORw0KGgoAAAANSUhEUgAAADgAAAAPCAIAAAA+m5tcAAAAq3pUWHRSYXcgcHJvZmlsZSB0eXBlIGV4aWYAAHjaVU7bDQMhDPtnio6QFw6Mg+5A6gYdv+buVKlWiB3LiSjz817ltaHWStRs6IAQ0aPboGhyw1kqKkaOx7IfX74+frlPiNhoTbap97zOdeE5KeFpqNAM9jDJRKduVOyoxaQmFg6AQcVpEgd5IpNrSFQTH3txw2b+pyec88kfublcb7iSx564qp7U5o29emXwCz6vO1BjF9i5AAAACXBIWXMAAAsTAAALEwEAmpwYAAAAPHRFWHRTb2Z0d2FyZQBDcmVhdGVkIHdpdGggdGhlIFdvbGZyYW0gTGFuZ3VhZ2UgOiB3d3cud29sZnJhbS5jb21coqaFAAAAIXRFWHRDcmVhdGlvbiBUaW1lADIwMjA6MTI6MDIgMTc6Mjg6NTUn3evQAAABQElEQVRIie1VsW3DMBC81yyWq0wgTyAPoDYdVTpNOpfp0tClPIKrVNQE2UBIYWqXTyFSJBWSUQADgQF/RZF3f/f4p0jMjHuI4r8NrI2H0VtHAQDjaUdT7E5jDt23RD+RUbqDtj2ySLvrcJ6MS8GsBCAUMzNrWdllPrSsUEnNHKf7eZTIIc1xRtjw4SViLStgldOl0IKuhJfFInJCSaPzQTFeBzxtN0DfUnlppMBwzbTfdKW8NLqrASTp54/e9PXtPC3+JmTk3l8gX2vMl6lvaQ/Fn4ftL8y6myo9fpXhUAX0utNy2BMR0TMaERa6TsgWKY6HDQCAlQCCnqwaUr+hefq8l0OmiBbOjGB2vHG3nwnfwRVJ0JdqGWTE6AICC5vCVcCRkVeuiT4wQndbgXwEqfzBQPBbCMwQP97628bdGP0Gf7u6ZMg+08IAAAAASUVORK5CYII=\"></div><div class=\"grid-item\"><img alt=\"Output\" src=\"data:image/png;base64,iVBORw0KGgoAAAANSUhEUgAAABUAAAAPCAIAAACEOBM8AAAAq3pUWHRSYXcgcHJvZmlsZSB0eXBlIGV4aWYAAHjaVU7bDQMhDPtnio6QFw6Mg+5A6gYdv+buVKlWiB3LiSjz817ltaHWStRs6IAQ0aPboGhyw1kqKkaOx7IfX74+frlPiNhoTbap97zOdeE5KeFpqNAM9jDJRKduVOyoxaQmFg6AQcVpEgd5IpNrSFQTH3txw2b+pyec88kfublcb7iSx564qp7U5o29emXwCz6vO1BjF9i5AAAACXBIWXMAAAsTAAALEwEAmpwYAAAAPHRFWHRTb2Z0d2FyZQBDcmVhdGVkIHdpdGggdGhlIFdvbGZyYW0gTGFuZ3VhZ2UgOiB3d3cud29sZnJhbS5jb21coqaFAAAAIXRFWHRDcmVhdGlvbiBUaW1lADIwMjA6MTI6MDIgMTc6Mjg6NTUn3evQAAAAoElEQVQokWP8//8/AwWAiRLNg0b/nYnWjIyMjOnb4eJQEShASKCrZGJg2J7OGM+w8PYEK3Sz07b9h4KZngwMDFhVMjEweM78fzRfhRjHYlGJz/+zvCCut554B6caXPpV8o9C3X57AkOBKlLIEKcfySTvMCuGK7dwOIGw/u3dBceswrxxBdD//9vSUEXStv3//x8pkK0m3IZ6BYtKxiGe/gFJ7lAYyIi7ZQAAAABJRU5ErkJggg==\"></div><div class=\"grid-item\"><img alt=\"Output\" src=\"data:image/png;base64,iVBORw0KGgoAAAANSUhEUgAAABwAAAAgCAIAAACO148VAAAAq3pUWHRSYXcgcHJvZmlsZSB0eXBlIGV4aWYAAHjaVU7bDQMhDPtnio6QFw6Mg+5A6gYdv+buVKlWiB3LiSjz817ltaHWStRs6IAQ0aPboGhyw1kqKkaOx7IfX74+frlPiNhoTbap97zOdeE5KeFpqNAM9jDJRKduVOyoxaQmFg6AQcVpEgd5IpNrSFQTH3txw2b+pyec88kfublcb7iSx564qp7U5o29emXwCz6vO1BjF9i5AAAACXBIWXMAAAsTAAALEwEAmpwYAAAAPHRFWHRTb2Z0d2FyZQBDcmVhdGVkIHdpdGggdGhlIFdvbGZyYW0gTGFuZ3VhZ2UgOiB3d3cud29sZnJhbS5jb21coqaFAAAAIXRFWHRDcmVhdGlvbiBUaW1lADIwMjA6MTI6MDIgMTc6Mjg6NTUn3evQAAABGElEQVRIie2VsW3DMBBF/wUeQENQKgxNIE8gp3HlNh1ZmiOoSJdGLp0urQcgJ3AmUGVyF6aQE5OII5FygCCwfyXcnR6J4+EfXJpMWwEAV0NFD0iQFvSEtxN3QEnQeucOGzZelwSN1Y1DkTJPiof//jRY5Jz79Yv+n57eOHQ2WtE0TQxISpllWf/dj5S11sszFmEaQ5oBsNYY4wevpd6H/8+gdrsgIhL6e4yIFlsbVMdAL+47LXJZ9tZn1vs8OC7eT01beQaqOKrWfCVCb53YU3vsUBYM0ILy/brl6I7nFlz1UFrQEsodNkUYnwhlRYnX5fPcuF3t3fukcUO5rHrF0c0fGQDoF/nOVe1lp++78zh8Ptl98QEAPgCnImGItFd2wAAAAABJRU5ErkJggg==\"></div></div></div>"
      ],
      "text/plain": [
       "3\n",
       "531441\n",
       "0.309017\n",
       "151\n",
       "  1\n",
       "-(--)\n",
       "  10"
      ]
     },
     "execution_count": 17,
     "metadata": {
      "text/html": [],
      "text/plain": []
     },
     "output_type": "execute_result"
    }
   ],
   "source": [
    "(* Exercices for Chapter 0 *)\n",
    "Print[\"Exercice 1\"]\n",
    "\n",
    "4+5-6\n",
    "3^12\n",
    "Sin[0.1*Pi]\n",
    "(2-(3-4(3+7(1-(2(3-5))))))\n",
    "(2/5)-(3/4)*(2/3)"
   ]
  },
  {
   "cell_type": "markdown",
   "metadata": {},
   "source": [
    "## Segunda parte\n",
    "Operaciones matriciales. Las matrices se definen como dobles listas, donde cada lista interna representa una **fila**."
   ]
  },
  {
   "cell_type": "code",
   "execution_count": 53,
   "metadata": {},
   "outputs": [
    {
     "name": "stdout",
     "output_type": "stream",
     "text": [
      "A = 1   2    -1, B = 1   2   3, C = 2   1   1\n",
      "\n",
      "    0   1    0       1   1   2      0   1   -1\n",
      "\n",
      "    3   -1   2       0   1   2      4   2   2\n",
      "\n",
      "A + 4BC = 57   38   19\n",
      "\n",
      "          40   25   16\n",
      "\n",
      "          35   19   14\n"
     ]
    }
   ],
   "source": [
    "mA = { {1,2,-1}, {0,1,0}, {3,-1,2}};\n",
    "mB = { {1,2,3}, {1,1,2}, {0,1,2}};\n",
    "mC = { {2,1,1}, {0,1,-1}, {4,2,2}};\n",
    "\n",
    "Print[\"A = \",Grid[mA], \", B = \",Grid[mB], \", C = \",Grid[mC]]\n",
    "Print[]\n",
    "Print[\"A + 4BC = \",Grid[mA + 4*(mB.mC)]]"
   ]
  },
  {
   "cell_type": "code",
   "execution_count": 68,
   "metadata": {},
   "outputs": [
    {
     "name": "stdout",
     "output_type": "stream",
     "text": [
      "A^(-1) = 2        3    1\n",
      "         -      -(-)   -\n",
      "         5        5    5\n",
      "\n",
      "         0      1      0\n",
      "\n",
      "           3    7      1\n",
      "         -(-)   -      -\n",
      "           5    5      5\n",
      "\n",
      "B^(-1) = 0    1    -1\n",
      "\n",
      "         2    -2   -1\n",
      "\n",
      "         -1   1    1\n",
      "\n"
     ]
    },
    {
     "ename": "Inverse::sing",
     "evalue": "Matrix {{2, 1, 1}, {0, 1, -1}, {4, 2, 2}} is singular.",
     "output_type": "error",
     "traceback": [
      "\u001b[0;31mInverse::sing: Matrix {{2, 1, 1}, {0, 1, -1}, {4, 2, 2}} is singular.\u001b[0m"
     ]
    },
    {
     "name": "stdout",
     "output_type": "stream",
     "text": [
      "C^(-1) = Inverse[{{2, 1, 1}, {0, 1, -1}, {4, 2, 2}}]\n"
     ]
    }
   ],
   "source": [
    "Print[\"A^(-1) = \", Grid[Inverse[mA]]]\n",
    "Print[]\n",
    "Print[\"B^(-1) = \", Grid[Inverse[mB]]]\n",
    "Print[]\n",
    "Print[\"C^(-1) = \", Grid[Inverse[mC]]]"
   ]
  },
  {
   "cell_type": "code",
   "execution_count": 73,
   "metadata": {},
   "outputs": [
    {
     "name": "stdout",
     "output_type": "stream",
     "text": [
      "A^3 =-11   4    -4\n",
      "\n",
      "     0     1    0\n",
      "\n",
      "     12    20   -7\n"
     ]
    }
   ],
   "source": [
    "Print[\"A^3 =\",Grid[mA.mA.mA]]"
   ]
  },
  {
   "cell_type": "code",
   "execution_count": 74,
   "metadata": {},
   "outputs": [
    {
     "name": "stdout",
     "output_type": "stream",
     "text": [
      " det C = 0\n"
     ]
    }
   ],
   "source": [
    "Print[\" det C = \", Det[mC]]"
   ]
  },
  {
   "cell_type": "code",
   "execution_count": 78,
   "metadata": {},
   "outputs": [
    {
     "name": "stdout",
     "output_type": "stream",
     "text": [
      "Eigenvalues :3.65109\n",
      "\n",
      "             0.726109\n",
      "\n",
      "             -0.377203\n",
      "\n",
      "Eigenvectors :2.3772     1.65109    1.\n",
      "\n",
      "              -1.65109   -1.27389   1.\n",
      "\n",
      "              1.27389    -2.3772    1.\n"
     ]
    }
   ],
   "source": [
    "Print[\"Eigenvalues :\",Grid[N[Eigenvalues[mB]]]]\n",
    "Print[]\n",
    "Print[\"Eigenvectors :\",Grid[N[Eigenvectors[mB]]]]"
   ]
  },
  {
   "cell_type": "markdown",
   "metadata": {},
   "source": [
    "## Tercera parte\n",
    "Números complejos. La unidad imaginaria se anota `I`."
   ]
  },
  {
   "cell_type": "code",
   "execution_count": 81,
   "metadata": {},
   "outputs": [
    {
     "data": {
      "text/html": [
       "<style>\n",
       "\t\t\t\t\t\t\t\t\t\t\t\t\t.grid-container {\n",
       "\t\t\t\t\t\t\t\t\t\t\t\t\t\tdisplay: inline-grid;\n",
       "\t\t\t\t\t\t\t\t\t\t\t\t\t\tgrid-template-columns: auto;\n",
       "\t\t\t\t\t\t\t\t\t\t\t\t\t}\n",
       "\t\t\t\t\t\t\t\t\t\t\t\t</style>\n",
       "\n",
       "\t\t\t\t\t\t\t\t\t\t\t\t<div><div class=\"grid-container\"><div class=\"grid-item\"><img alt=\"Output\" src=\"data:image/png;base64,iVBORw0KGgoAAAANSUhEUgAAADAAAAAPCAIAAAAtTNuoAAAAq3pUWHRSYXcgcHJvZmlsZSB0eXBlIGV4aWYAAHjaVU7bDQMhDPtnio6QFw6Mg+5A6gYdv+buVKkW2I6VRCnz817ltaHWStRs6IAQ0aPboGlyw/lUVIwaT2Q/vXJ98nKvELHRmuxQ73qd68KzUsLTUKEZ5DDJRKdvdGTUYlITCwfARsVpEgd1IpNjSFQTH3tww2b+d08465MXublcf7hSx644qp704Y1szqvLFz65O1C+JSIsAAAACXBIWXMAAAsTAAALEwEAmpwYAAAAPHRFWHRTb2Z0d2FyZQBDcmVhdGVkIHdpdGggdGhlIFdvbGZyYW0gTGFuZ3VhZ2UgOiB3d3cud29sZnJhbS5jb21coqaFAAAAIXRFWHRDcmVhdGlvbiBUaW1lADIwMjA6MTI6MDIgMTc6NDg6MjZ+1dkNAAABIUlEQVRIie2VMXKDMBBFvzIcRVAwOQE+gVJR+QhQksY38AGgxEdI5Qb2BPERVEh7F6UAxgpOJMaTmbjw68Tun/3aXQ3COYdH4uW/Dax5GrqBqev4eowa4m4nhBA13VOMarGw86t+w2htvaMLMVYoWmvbAtUYTIxh2wJFazdkJsEbqt4pgLtwH5gISslYu16zdQpTN5y1BpAf+maK/sUOWWN+jc1DSz/2tlfroFRNU+b5ocyv36YOMfsDljJ624VFaJl/FqreuX42Vo/u1tSaBACztf5abXY0C43WyLKwUJUVjoYRnWwCQEq1vSc+i9CYNLZDdD4Ve7uhSniHpg1I3y84vd3x+L1Xf8ztZ7Pyw0xERuvBaD0QEQOAeP7LIjycoS+xBu0ypU7ohQAAAABJRU5ErkJggg==\"></div><div class=\"grid-item\"><img alt=\"Output\" src=\"data:image/png;base64,iVBORw0KGgoAAAANSUhEUgAAACcAAAAPCAIAAADoPkE5AAAAq3pUWHRSYXcgcHJvZmlsZSB0eXBlIGV4aWYAAHjaVU7bDQMhDPtnio6QFw6Mg+5A6gYdv+buVKkW2I6VRCnz817ltaHWStRs6IAQ0aPboGlyw/lUVIwaT2Q/vXJ98nKvELHRmuxQ73qd68KzUsLTUKEZ5DDJRKdvdGTUYlITCwfARsVpEgd1IpNjSFQTH3tww2b+d08465MXublcf7hSx644qp704Y1szqvLFz65O1C+JSIsAAAACXBIWXMAAAsTAAALEwEAmpwYAAAAPHRFWHRTb2Z0d2FyZQBDcmVhdGVkIHdpdGggdGhlIFdvbGZyYW0gTGFuZ3VhZ2UgOiB3d3cud29sZnJhbS5jb21coqaFAAAAIXRFWHRDcmVhdGlvbiBUaW1lADIwMjA6MTI6MDIgMTc6NDg6MjZ+1dkNAAAA70lEQVQ4je2UMXIDIQxFRcZHISl2fAJ8ArqtfAS23Mo3yAGgJEdI5SbiJltYustPEXuCsT3eOImLTF6HEHoj0GAA0N15uL/yr1u1pKStVdPKGGOGckvFMpgDq7r0EbtpkmoJcCAXRaKjwPgOEh25KDMyF0Q+wxNpuqXPE5ZPtoloSW/baSKibpPHj90fedf9HT++riX7dtP6cey7btN3n7HFjKKq9WtZ23ZDPgN5bx8Yp+aW61ZVkXoQzmkP9j7Q807JX0qYb7XWX9Q0lO2LW8ucZIDDceSLk1wdPzfAIswcQ4gxhMjMAgAG///w7/IOph75vXVxjNUAAAAASUVORK5CYII=\"></div><div class=\"grid-item\"><img alt=\"Output\" src=\"data:image/png;base64,iVBORw0KGgoAAAANSUhEUgAAAIcAAAAPCAIAAABBZkvoAAAAq3pUWHRSYXcgcHJvZmlsZSB0eXBlIGV4aWYAAHjaVU7bDQMhDPtnio6QFw6Mg+5A6gYdv+buVKkW2I6VRCnz817ltaHWStRs6IAQ0aPboGlyw/lUVIwaT2Q/vXJ98nKvELHRmuxQ73qd68KzUsLTUKEZ5DDJRKdvdGTUYlITCwfARsVpEgd1IpNjSFQTH3tww2b+d08465MXublcf7hSx644qp704Y1szqvLFz65O1C+JSIsAAAACXBIWXMAAAsTAAALEwEAmpwYAAAAPHRFWHRTb2Z0d2FyZQBDcmVhdGVkIHdpdGggdGhlIFdvbGZyYW0gTGFuZ3VhZ2UgOiB3d3cud29sZnJhbS5jb21coqaFAAAAIXRFWHRDcmVhdGlvbiBUaW1lADIwMjA6MTI6MDIgMTc6NDg6MjZ+1dkNAAAChElEQVRYhe2YPXajMBDHB789inDBywngBLIbV263k0rcuHOZLo1UQpfWVRqkE8AJ8igY3UVbGMyXMSw4We97+ZViNMxfMxoJHGst/PBkrP51AD/c4Ccrz8i3ZsUYY8wD7e760FIu9dF3KgPH4Xqy+Vy9U7OiuVMRzFSrNfbCkYHj3NSJydI1LfK8976plHE5A8FNY4HeKVkxMnA2oGxJGpKZcQIhpJ6rufMb3lH4t8zmvqH2EUYRnTXTyMA977GS2/RCwrQ9MBbETL1lVoyWPAiCgPN+iZrknDHVj6VRUHXyG4Nje4pGSxJstB5yb7SUnHN+S0xtMqh3gGu3aFS65g6XleIH6l0BgJE8KQBOaZpG0Ra5bG0wk5wz33M785oFheJzU4ak3w4vavmemgAWxdAjQsNw53nHnXf7+X29QMJ3AQe3u8w0stb2Kz0+5CdrrVUsO7zNbXZdVgA6geM6z3fu5dBxd3kx6t0k54ydymUn4Ylllybuen68WdCLJ1EdjjjvVjCul4SptRb3Z3d8C1RdxPX6nWk21bni1XXlHsNmtyLrF8imHpwXPXb3seicvIsxiIhY5HmBiIjzLgXDeq+QMH3wFpjMCsCFPAHICyAVbRN6FH68aS8x2e79+LWsIiNf43aPo5FF4ccfXyGHEEoppWvP21JKKf3rNjmmt4kpPqHfvr8ea621SjDf95lQSgnGmLpeQCoUq2f4Ajtj1Ui77TLV8aHUoM+evRKiF0R79qAB4kWGEIwJpfpiRvS246qi6p4oTF1Mm8/bihfohaYaxPsrsYxulPeNx7KynCfW+6vO3SO+Ev4nnljvN/5xcV3Qevgr44oxWmtYb592zSayQO8fQpv8zIlUrNAAAAAASUVORK5CYII=\"></div><div class=\"grid-item\"><img alt=\"Output\" src=\"data:image/png;base64,iVBORw0KGgoAAAANSUhEUgAAAEIAAAAPCAIAAADf8I4NAAAAq3pUWHRSYXcgcHJvZmlsZSB0eXBlIGV4aWYAAHjaVU7bDQMhDPtnio6QFw6Mg+5A6gYdv+buVKkW2I6VRCnz817ltaHWStRs6IAQ0aPboGlyw/lUVIwaT2Q/vXJ98nKvELHRmuxQ73qd68KzUsLTUKEZ5DDJRKdvdGTUYlITCwfARsVpEgd1IpNjSFQTH3tww2b+d08465MXublcf7hSx644qp704Y1szqvLFz65O1C+JSIsAAAACXBIWXMAAAsTAAALEwEAmpwYAAAAPHRFWHRTb2Z0d2FyZQBDcmVhdGVkIHdpdGggdGhlIFdvbGZyYW0gTGFuZ3VhZ2UgOiB3d3cud29sZnJhbS5jb21coqaFAAAAIXRFWHRDcmVhdGlvbiBUaW1lADIwMjA6MTI6MDIgMTc6NDg6MjZ+1dkNAAABnElEQVRIie1VMXKDMBBcZfIU4cLjF8ALRBpXtOlQKRp3Lv0AVOLOras0SC8wL/BQIP1FKSAZGCAEQyaTmWx3J2nvTrc6Eecc/j6efjuBdfBfRg/WWmtX5AMAq6Xsc/YiPQGwMggG9s6E1qYXTQaEEML1AtqqLHu8AGDydsqriopSSj8NzckrLib1l1GKLGNDgbqO8TKaq+xep+akhS97yDJ3E3R8vYmi9RiH1VJyzjnn01IZKcPKwLtGxjnnnEnvYZ2w5uE9rZ0qhp9eptOcgqmqsSXKhNhvt4f9dppmuAybX4v42CRJxTEuhgW6CB/v1KwwGp7nbGb7OAw9kgCAn5psSS+sNcYAVVliswEG9D4Hw2XQl8hPTvLABAWsPJ396ABYebqnxi1XEgBQyigFUFUeY4sZG1EViUfaD5qKm9o1Pu8amZugABXHXWvfxCCtp4GXFDiHj4xda7XWVVnmVVnmenwS1HDfh4qBWLUsv3nvta3U0KGfgkrbwR/+N/TbGbvNKvpaA3NuoPOXdVrhnDNGKaWUGTm7IgYivQOPyhTeITFChwAAAABJRU5ErkJggg==\"></div><div class=\"grid-item\"><img alt=\"Output\" src=\"data:image/png;base64,iVBORw0KGgoAAAANSUhEUgAAAEcAAAAPCAIAAAA52UVJAAAAq3pUWHRSYXcgcHJvZmlsZSB0eXBlIGV4aWYAAHjaVU7bDQMhDPtnio6QFw6Mg+5A6gYdv+buVKkW2I6VRCnz817ltaHWStRs6IAQ0aPboGlyw/lUVIwaT2Q/vXJ98nKvELHRmuxQ73qd68KzUsLTUKEZ5DDJRKdvdGTUYlITCwfARsVpEgd1IpNjSFQTH3tww2b+d08465MXublcf7hSx644qp704Y1szqvLFz65O1C+JSIsAAAACXBIWXMAAAsTAAALEwEAmpwYAAAAPHRFWHRTb2Z0d2FyZQBDcmVhdGVkIHdpdGggdGhlIFdvbGZyYW0gTGFuZ3VhZ2UgOiB3d3cud29sZnJhbS5jb21coqaFAAAAIXRFWHRDcmVhdGlvbiBUaW1lADIwMjA6MTI6MDIgMTc6NDg6MjZ+1dkNAAABeUlEQVRIieWWO1LDMBCGV0yOIlF4OEF8AocmVVq6qJQbOkq6NFbpdLRUNPGewDkBo8LauyyFMdiRie1JmDDk6yyt9t+XNBbMDP+Om0sH8CtccVaE1tJEx2RjITQeN0J91ISIaIxuYDeuV5Vz/iePNhYNQ0lMAzHQ/BTr0fG7dt1nY/xLk+e9G2Rj9bryXMqeMyWbMc6PCsuWY9TiOfI+e1AuNOsWYKhXhNZqrbXWE2YQddg81ELbpq9x21ljHQ8oJDmXJixfH0NZycSYZRQ9LqPeXfOSQaoOI0pyZvbZ/MB6m7onZuZivU83Tb7bxdsyWDyVOivqMOW8NCUz+9WrGq72usgTAAAVzQcWT2UGAETed+ayM85jkKZkg1osNmjqIC/LDACkTKam0QNV7zBfqdNDOgMD94oIESvndpVzO0Q8mLCvZ0EIodK7or7N9fur0j1sF2d88GuxcW75z1IUxQTjLPPfX1f8x3QZlAIMhz6ECBHh9r71NHwAUomE+UUTytwAAAAASUVORK5CYII=\"></div></div></div>"
      ],
      "text/plain": [
       "-1 + 3 I\n",
       "1 - 3 I\n",
       "E Cos[1] + I E Sin[1]\n",
       "Log[1 + I]\n",
       "-I Sinh[1]"
      ]
     },
     "execution_count": 84,
     "metadata": {
      "text/html": [],
      "text/plain": []
     },
     "output_type": "execute_result"
    }
   ],
   "source": [
    "z1 = 1+1*I;\n",
    "z2 = -2 + 1*I;\n",
    "z3 = -1*I;\n",
    "\n",
    "z1 + z2 - z3\n",
    "(z1*z2)/z3\n",
    "ComplexExpand[Exp[z1]]\n",
    "Log[z1]\n",
    "ComplexExpand[Sin[z3]]"
   ]
  },
  {
   "cell_type": "markdown",
   "metadata": {},
   "source": [
    "## Cuarta parte\n",
    "Límites."
   ]
  },
  {
   "cell_type": "code",
   "execution_count": 89,
   "metadata": {},
   "outputs": [
    {
     "data": {
      "text/html": [
       "<style>\n",
       "\t\t\t\t\t\t\t\t\t\t\t\t\t.grid-container {\n",
       "\t\t\t\t\t\t\t\t\t\t\t\t\t\tdisplay: inline-grid;\n",
       "\t\t\t\t\t\t\t\t\t\t\t\t\t\tgrid-template-columns: auto;\n",
       "\t\t\t\t\t\t\t\t\t\t\t\t\t}\n",
       "\t\t\t\t\t\t\t\t\t\t\t\t</style>\n",
       "\n",
       "\t\t\t\t\t\t\t\t\t\t\t\t<div><div class=\"grid-container\"><div class=\"grid-item\"><img alt=\"Output\" src=\"data:image/png;base64,iVBORw0KGgoAAAANSUhEUgAAAAcAAAAPCAIAAACnY0LpAAAAq3pUWHRSYXcgcHJvZmlsZSB0eXBlIGV4aWYAAHjaVU/bDQMhDPtnio6QFw43DroDqRt0/BruVKkW2I6VRFDG5z3La0GtlajZcABCxBGHdZomN5xHRcWo8UT2053rk5d7hYj11mSFetfzmhvPSglPQ4VmkMMkEwd9oyOjFpOamDgBNioukzipA5kcQ6KaeF+DCzbyv3vAWV98kZvLvt2V2lfFUfW2fZLN+dXyBT6XO04LcSWNAAAACXBIWXMAAAsTAAALEwEAmpwYAAAAPHRFWHRTb2Z0d2FyZQBDcmVhdGVkIHdpdGggdGhlIFdvbGZyYW0gTGFuZ3VhZ2UgOiB3d3cud29sZnJhbS5jb21coqaFAAAAIXRFWHRDcmVhdGlvbiBUaW1lADIwMjA6MTI6MDIgMTg6MDc6MjjCxjJ1AAAAQ0lEQVQYlWP8//8/AwZgwhQiS/TORGtGRkbG9O0I0e3pjPEMC29PsEJR6znz/9F8FZq4AQP8/78tDVUkbdt/RorDAQBX9hURZUTjYwAAAABJRU5ErkJggg==\"></div><div class=\"grid-item\"><img alt=\"Output\" src=\"data:image/png;base64,iVBORw0KGgoAAAANSUhEUgAAAAwAAAAgCAIAAACpeQ79AAAAq3pUWHRSYXcgcHJvZmlsZSB0eXBlIGV4aWYAAHjaVU/bDQMhDPtnio6QFw43DroDqRt0/BruVKkW2I6VRFDG5z3La0GtlajZcABCxBGHdZomN5xHRcWo8UT2053rk5d7hYj11mSFetfzmhvPSglPQ4VmkMMkEwd9oyOjFpOamDgBNioukzipA5kcQ6KaeF+DCzbyv3vAWV98kZvLvt2V2lfFUfW2fZLN+dXyBT6XO04LcSWNAAAACXBIWXMAAAsTAAALEwEAmpwYAAAAPHRFWHRTb2Z0d2FyZQBDcmVhdGVkIHdpdGggdGhlIFdvbGZyYW0gTGFuZ3VhZ2UgOiB3d3cud29sZnJhbS5jb21coqaFAAAAIXRFWHRDcmVhdGlvbiBUaW1lADIwMjA6MTI6MDIgMTg6MDc6MjjCxjJ1AAAApElEQVQ4jWP4jwC3J1gxMDAwpG37jwaYGKBgezpjPMNCqDo0AFfkOfP/0XwVLCqQFeEDdFbEAPPmtjRUceSAYPz//z8d3URnRSwQqqGhAU2ioKBAQEAAwh7eQYCk6M5Ea0YIsJ54B1UVUlaBpo7bE6wYrCbcRsotDP8xwbY0tHyFxU13bl1hSAvwxGYdTmPQrbs9wQpbBkZShEsFkiKM/D2AGQEAAaT879h0emwAAAAASUVORK5CYII=\"></div><div class=\"grid-item\"><img alt=\"Output\" src=\"data:image/png;base64,iVBORw0KGgoAAAANSUhEUgAAABYAAAAhCAIAAABSqcx5AAAAqnpUWHRSYXcgcHJvZmlsZSB0eXBlIGV4aWYAAHjaVU7bDQMhDPtnio6QFw6Mg+5A6gYdv+buVKlWiB3LiSjz817ltaHWStRs6IAQ0aPboGhyw1kqKkaOx7IfX74+frlPiNhoTbap97zOdeE5KeFpqNAM9jDJRKduVOyoxaQmFg6AQcVpEgd5IpNrSFQTH3txw2b+pyec88kfublcb7iSx564qt4unezmncEvPps7Tx0A0qEAAAAJcEhZcwAACxMAAAsTAQCanBgAAAA8dEVYdFNvZnR3YXJlAENyZWF0ZWQgd2l0aCB0aGUgV29sZnJhbSBMYW5ndWFnZSA6IHd3dy53b2xmcmFtLmNvbVyipoUAAAAhdEVYdENyZWF0aW9uIFRpbWUAMjAyMDoxMjowMiAxODowNzoyObXBAuMAAADcSURBVEiJ7ZXBEcIgEEV/HAtIEZgiYgWOF6uIx6SElECKERrxxG4veCCTIFGzjCed/AuwC29YdgF4iUjXCKo1pU7IAI2ZUAuIBBHJNMCIm7RDjtjd0VxOifXLLWQEQrp+uV6K+LBehpgzOiqBFd77rBNdKi8jG2JF+9UZfd8vjV3XlWUZ+iGpzBz5lVK5u2AmotiYx9hK6xcRPByLVFc7+yWvVnh4tInbWeJACDjEbV4gAGAdzgoAO1RJ6coQPLiqfVf0EoQdblU7/j/qDGcT//o5GkOJ4Xn8N9fsAcrxRy6cOMTdAAAAAElFTkSuQmCC\"></div><div class=\"grid-item\"><img alt=\"Output\" src=\"data:image/png;base64,iVBORw0KGgoAAAANSUhEUgAAAAkAAAAPCAIAAAC5qnJaAAAAqnpUWHRSYXcgcHJvZmlsZSB0eXBlIGV4aWYAAHjaVU7bDQMhDPtnio6QFw6Mg+5A6gYdv+buVKlWiB3LiSjz817ltaHWStRs6IAQ0aPboGhyw1kqKkaOx7IfX74+frlPiNhoTbap97zOdeE5KeFpqNAM9jDJRKduVOyoxaQmFg6AQcVpEgd5IpNrSFQTH3txw2b+pyec88kfublcb7iSx564qt4unezmncEvPps7Tx0A0qEAAAAJcEhZcwAACxMAAAsTAQCanBgAAAA8dEVYdFNvZnR3YXJlAENyZWF0ZWQgd2l0aCB0aGUgV29sZnJhbSBMYW5ndWFnZSA6IHd3dy53b2xmcmFtLmNvbVyipoUAAAAhdEVYdENyZWF0aW9uIFRpbWUAMjAyMDoxMjowMiAxODowNzoyObXBAuMAAAB0SURBVBiVzZCxDcMwDARfRlYRi6zCRlPYZQZxQ5feQo2YXfjDMIWSLi4D5KoHDrjiS2biguVK/Jm7Ac9jC2kS0SENPaRJ9JDzAZp5Tmir8b3djAuA+qVXAZakHwOqFWMfuAOiWjn20BOzRvdPje6cu/zgzxdhZU3TriWhbAAAAABJRU5ErkJggg==\"></div><div class=\"grid-item\"><img alt=\"Output\" src=\"data:image/png;base64,iVBORw0KGgoAAAANSUhEUgAAAAcAAAAPCAIAAACnY0LpAAAAqnpUWHRSYXcgcHJvZmlsZSB0eXBlIGV4aWYAAHjaVU7bDQMhDPtnio6QFw6Mg+5A6gYdv+buVKlWiB3LiSjz817ltaHWStRs6IAQ0aPboGhyw1kqKkaOx7IfX74+frlPiNhoTbap97zOdeE5KeFpqNAM9jDJRKduVOyoxaQmFg6AQcVpEgd5IpNrSFQTH3txw2b+pyec88kfublcb7iSx564qt4unezmncEvPps7Tx0A0qEAAAAJcEhZcwAACxMAAAsTAQCanBgAAAA8dEVYdFNvZnR3YXJlAENyZWF0ZWQgd2l0aCB0aGUgV29sZnJhbSBMYW5ndWFnZSA6IHd3dy53b2xmcmFtLmNvbVyipoUAAAAhdEVYdENyZWF0aW9uIFRpbWUAMjAyMDoxMjowMiAxODowNzoyObXBAuMAAAB6SURBVBiVpZCxDYNAEATnqMUQuQLowAVQwhHSytOGCzgqcAdE8L2sgzdGFhnebEe6G2lNEqdUZ3SF5qmzkm7KAEjh4CFJ2lKLh4TCadP2heChKq8L9+YG82D1s0/OsuaPbR7sQeg1NqUrHH5+eKjYdriLOSwcN/b3Dm/wZ1a4OMtAfgAAAABJRU5ErkJggg==\"></div></div></div>"
      ],
      "text/plain": [
       "1\n",
       "1\n",
       "-\n",
       "2\n",
       "-2\n",
       "--\n",
       "Pi\n",
       "Infinity\n",
       "0"
      ]
     },
     "execution_count": 89,
     "metadata": {
      "text/html": [],
      "text/plain": []
     },
     "output_type": "execute_result"
    }
   ],
   "source": [
    "Limit[Sin[x]/x,x->0]\n",
    "Limit[(x^3+3*x^2-5)/(2*x^3-7*x),x->Infinity]\n",
    "Limit[(Cos[x]+1)/(x-Pi),x->0]\n",
    "Limit[1/x,x->0,Direction->\"FromAbove\"]\n",
    "Limit[(2*Sinh[x]-2*Sin[x])/(Cosh[x]-1),x->0]"
   ]
  },
  {
   "cell_type": "markdown",
   "metadata": {},
   "source": [
    "## Quinta parte\n",
    "Derivadas."
   ]
  },
  {
   "cell_type": "code",
   "execution_count": 113,
   "metadata": {},
   "outputs": [
    {
     "data": {
      "text/html": [
       "<style>\n",
       "\t\t\t\t\t\t\t\t\t\t\t\t\t.grid-container {\n",
       "\t\t\t\t\t\t\t\t\t\t\t\t\t\tdisplay: inline-grid;\n",
       "\t\t\t\t\t\t\t\t\t\t\t\t\t\tgrid-template-columns: auto;\n",
       "\t\t\t\t\t\t\t\t\t\t\t\t\t}\n",
       "\t\t\t\t\t\t\t\t\t\t\t\t</style>\n",
       "\n",
       "\t\t\t\t\t\t\t\t\t\t\t\t<div><div class=\"grid-container\"><div class=\"grid-item\"><img alt=\"Output\" src=\"data:image/png;base64,iVBORw0KGgoAAAANSUhEUgAAADYAAAAPCAIAAAAgUqvvAAAAqnpUWHRSYXcgcHJvZmlsZSB0eXBlIGV4aWYAAHjaVU7bDQMhDPtnio6QFw43DroDqRt0/BruVKkWxImxI8r4vGd5Lai1EjUbDkCIOOKwzqbJDedRUTFyPJL9eOv66OVeIWK9NVmi3vO85sazUsLTUKEZrGGSiYN9Y8eKWkxqYuIEaFRcJnGSBzIZQ6KaeF/BBRv57x5wzhd/5Oayb3cl9zUxqt62snS+0vgFPj07QOgC3UoAAAAJcEhZcwAACxMAAAsTAQCanBgAAAA8dEVYdFNvZnR3YXJlAENyZWF0ZWQgd2l0aCB0aGUgV29sZnJhbSBMYW5ndWFnZSA6IHd3dy53b2xmcmFtLmNvbVyipoUAAAAhdEVYdENyZWF0aW9uIFRpbWUAMjAyMDoxMjowMiAxODoxMDoyMGyqq04AAAE8SURBVEiJ1VXLdYMwEFy5FsjJFSwdkCJyE8e4iBSwXCnBBcgVOBX4+eChl81BQBSzfPye3zOZk5C0oxntPEG6OUA8M7MXxG96rRwLAFQVwhxF7mhzyLIsDvZvcfDiK5sAxPvQjSmZZSIaFp6G4PvrWcsN8UMQ9bfRpyo/7j0/u2ltXZTUKQtUFnW7WHKq8kNzOX4URVHF7b1TFkB45DT4xH7wRJz4S4yHYE1r8AljPOVhckpKLYldrQ/GCekesVf6Wu2CNCJYQU6J0QmJfUwnsgQACCIBiM+FWUvEIqaMWXJV1V391VBTOuecyw/f1JTOWYlhtnPatgCA2/V6AwCMKrPPczzp/E6X4R1ZR97hzo/daBYohB9v9F9yo3wF+ZLENMR2muYlDn2eSvkyuVPVuUveADb4A7zHP5D4A5H9NViwl1AiAAAAAElFTkSuQmCC\"></div><div class=\"grid-item\"><img alt=\"Output\" src=\"data:image/png;base64,iVBORw0KGgoAAAANSUhEUgAAADQAAAAoCAIAAAA+Dk5cAAAAqnpUWHRSYXcgcHJvZmlsZSB0eXBlIGV4aWYAAHjaVU7bDQMhDPtnio6QFw43DroDqRt0/BruVKkWxImxI8r4vGd5Lai1EjUbDkCIOOKwzqbJDedRUTFyPJL9eOv66OVeIWK9NVmi3vO85sazUsLTUKEZrGGSiYN9Y8eKWkxqYuIEaFRcJnGSBzIZQ6KaeF/BBRv57x5wzhd/5Oayb3cl9zUxqt62snS+0vgFPj07QOgC3UoAAAAJcEhZcwAACxMAAAsTAQCanBgAAAA8dEVYdFNvZnR3YXJlAENyZWF0ZWQgd2l0aCB0aGUgV29sZnJhbSBMYW5ndWFnZSA6IHd3dy53b2xmcmFtLmNvbVyipoUAAAAhdEVYdENyZWF0aW9uIFRpbWUAMjAyMDoxMjowMiAxODoxMDoyMGyqq04AAAJ1SURBVFiF7Zgrk+JAEIA7Vysikbgg2BVXCCQ1I9AblX8AaoIj+BMR6zATRYEBHBJzicXcagQVwcwPiMQRlxO8kst7IHtXdXyGkBdfunsm00hBEMC/yrdqb88dHWOMse5wkcuDr4BRROzyl5WMHLewdAJbRWPBuTN2W9p76biVSyu3eu6PcyjA6BXT44zBd9itnfJyomm1CUA0UzaB2y6bACDK7syroByjCOK/djG2ycWMUUIIIQSRkGm1cvGwXWAUAaQdLE3pqYRbWFLBDqZpBY4QEqiuZEo9CqMoKyzndDKKIgUnTBm5c85uRDTDY4BRBA/wk4L/9/V1H085UZ5yorycPkzT/KsaNwzDqNVqp+3nVCLKU06Ul9wzDofDaDRSFOULbDRNa7fb16/5A2K9Xrfb7UajUa1XEvlp9TyvOjNuYayndhf5cr7vP9QnBLfGbquVfjxfTpblB/qE4NbY1aZaxhk5ctvt9lKh55Y1PQkiatnNbEE5R5d6sIwthe9w++nudh8YY3U2U1PLLnuhPJlM/linZzVWzLYTV+ZZLa1N0u8YidzhcDBN0/M8wXCw/T5x//s0sMlM1R0AR1d3lP0aNm/H0nMbkVutVv1+f7FYXF2vC4Q8OOecAwC7bMT8GN2pkqSCHTLLIfKGGAwGAFCr1TzPq9frm82m0+kUU2OMAexdF97eAACazSQBhNBnQa8T8Uwfj0fDMGIFV6DmbJraDQq1tAmjVZZlRVG2221o+nV0SZKkV+MTZmr5CcXRJXVHl8MmNIdLCsZr0f/PEpVPwZvP5wUfsSKSVyWyLHe73cKjoSqyViW+71f27irEs4cQ5TelOsNbwAIt7AAAAABJRU5ErkJggg==\"></div><div class=\"grid-item\"><img alt=\"Output\" src=\"data:image/png;base64,iVBORw0KGgoAAAANSUhEUgAAARcAAAAPCAIAAABBQxzBAAAAqnpUWHRSYXcgcHJvZmlsZSB0eXBlIGV4aWYAAHjaVU7bDQMhDPtnio6QFw43DroDqRt0/BruVKkWxImxI8r4vGd5Lai1EjUbDkCIOOKwzqbJDedRUTFyPJL9eOv66OVeIWK9NVmi3vO85sazUsLTUKEZrGGSiYN9Y8eKWkxqYuIEaFRcJnGSBzIZQ6KaeF/BBRv57x5wzhd/5Oayb3cl9zUxqt62snS+0vgFPj07QOgC3UoAAAAJcEhZcwAACxMAAAsTAQCanBgAAAA8dEVYdFNvZnR3YXJlAENyZWF0ZWQgd2l0aCB0aGUgV29sZnJhbSBMYW5ndWFnZSA6IHd3dy53b2xmcmFtLmNvbVyipoUAAAAhdEVYdENyZWF0aW9uIFRpbWUAMjAyMDoxMjowMiAxODoxMDoyMGyqq04AAAOOSURBVGiB7VqrdupAFD2wroyo6aqoTRBZ/YLpFwRMFRY3SK7BVdZdM0hwWBSGmS+gX8CKYIaaUlVRkVU9V5CEyZMkPDq53G2aJvPYO/vM40xoSCmhlhCjfm+2gofudDwwf5rMf1wV4rHXzC7JmIheaIbOcLlcTu1Zb3QqetpLvhZob0Qs9rJHkQnzXp8J1u/NQce53jR9Vg+tU9HTXfLVQHcjErEnc8AJAkR4XpEjwTnnRdrPKMcJxvS0hHSXfETHBAEUf10/xtNvtrwRlxWoxl72WgQgFu4DhtkifU1l/UaAx4p7KsZ48cJ8EetFjPp/YDh2KnWdAc0lF4IYPYY0+6x8fQC4CM9c5BmhgcB47GUOQYoRpsrf6DgsNeozu6AlmqAkMjNRDAAIIYQQPtXaobnkIjjVWnpungcazDZCB4GJ2PNHEacEI4QQLhSRnKDUgOIEBYNz/1i5GVcfU0KxUpHiWPkqIUVpdpX6Sv76+lL//fz8jPJJCTKKEyQlxYBJwPTS1igob4R2AkFKyQkmhPhNcIrJgVGaLkS9q1xTnD2DJ+cDindaKE7KLm9VdpVaS/Y87/39fXcthPA8L04qJWpkYiZQAifgcFqeRVDWCKmlwCYAW8Cw5bpPlhBCCLCe3HWFzaZYzF7xs//lxhw841eXAwBYNpq0C+9fnTEnq3aj0Qa6POor0E4LAA8uIqi3ZMMwbm5uttvtZrO5u7szDEN9ag6WUkrenVmH0zdMd1t7y0Z5xSryBADfiBDxp1WM0EwgwP6k27bDW9ZwkJ+xm60H8APmMHaa5dO8eC6I0GHJ+RCCc8752nXXnHPOU990nSUbhvH9/d1sNmNDKMqB4tfff6qm36koy9M3IsTRRoTQROAOTQAL3AWAuwYzwKFKzpCgSTsaH2aniyYv/swgRi8TZFtqlbHkBE3mBySzvjXrTpdTsmpXPQUDADBNx3Ecp2XbHcdxHCeuqPaSN5vN/f397e3tdrvNLCTWK4hSOgaVePpGhDjeCBUaCPTh7/swQggTSinBGOfk5NFNp49gG7m/F24slUQ7ecSVkuGpacbRKWxelRpLfnt7C3Mhz/M+Pj7SOe57j1AK7ivpW/Ls5NzWqJVLGaGlQOWk+0yfz3Lws8ep8iolF+36sjxrbsSv/fgtuZz+C7hCyXqi5kbk/Xbh7LAsYKzA7w2FYIxBq1PrN71DXSTXhWdlnFTgX9amBRx5H3aeAAAAAElFTkSuQmCC\"></div><div class=\"grid-item\"><img alt=\"Output\" src=\"data:image/png;base64,iVBORw0KGgoAAAANSUhEUgAAADkAAAAPCAIAAADRWfBiAAAAqnpUWHRSYXcgcHJvZmlsZSB0eXBlIGV4aWYAAHjaVU7bDQMhDPtnio6QFw43DroDqRt0/BruVKkWxImxI8r4vGd5Lai1EjUbDkCIOOKwzqbJDedRUTFyPJL9eOv66OVeIWK9NVmi3vO85sazUsLTUKEZrGGSiYN9Y8eKWkxqYuIEaFRcJnGSBzIZQ6KaeF/BBRv57x5wzhd/5Oayb3cl9zUxqt62snS+0vgFPj07QOgC3UoAAAAJcEhZcwAACxMAAAsTAQCanBgAAAA8dEVYdFNvZnR3YXJlAENyZWF0ZWQgd2l0aCB0aGUgV29sZnJhbSBMYW5ndWFnZSA6IHd3dy53b2xmcmFtLmNvbVyipoUAAAAhdEVYdENyZWF0aW9uIFRpbWUAMjAyMDoxMjowMiAxODoxMDoyMGyqq04AAAFySURBVEiJzZM9csIwEIVfOItNweQE6xOQNKlo6eQSmpyCRi5JR0sf7QnECZgUWd1FKYxl+QfbmcCEV0m76/XT6hP840q0IiJSWso9/tfOoETEey+aqHQ7w+MqSZJy8TwvF38+vVFQZnA4ItOG2FcnWoXuMwBwRfZUKedbjoZZphfLZ+EaAVfkO7zvl5ftDK7I0uMqHClkbqUkXOVYWSvCebr9OB/XWZblhQNwnddo2PGsOe+7giqatSbT+X30GefD9cu9995aa63dbxIA8N6LJgAgHfESU2hUlTMKHTiNQhXspo1po1zV1E3rlNaDZNdvq+H4sgkqoz39G6cSTaNeQ+/ugxzzWjOQbKz3Rp22Owbk69RwZTdTmJssIhov6qjJq/s+gxYpsHy7mG4oXVBP9HfiPD2uDvagzy8jcHdV8hZU30yMQT3jOBogncyAUXUv0dR+I5N5vYv6eL1ePJnXx9edvaYpmJlHuXSOmTF/HXzBP3nVgD0dpRu6AAAAAElFTkSuQmCC\"></div><div class=\"grid-item\"><img alt=\"Output\" src=\"data:image/png;base64,iVBORw0KGgoAAAANSUhEUgAAAG4AAAAPCAIAAACKkW1TAAAAqnpUWHRSYXcgcHJvZmlsZSB0eXBlIGV4aWYAAHjaVU7bDQMhDPtnio6QFw43DroDqRt0/BruVKkWxImxI8r4vGd5Lai1EjUbDkCIOOKwzqbJDedRUTFyPJL9eOv66OVeIWK9NVmi3vO85sazUsLTUKEZrGGSiYN9Y8eKWkxqYuIEaFRcJnGSBzIZQ6KaeF/BBRv57x5wzhd/5Oayb3cl9zUxqt62snS+0vgFPj07QOgC3UoAAAAJcEhZcwAACxMAAAsTAQCanBgAAAA8dEVYdFNvZnR3YXJlAENyZWF0ZWQgd2l0aCB0aGUgV29sZnJhbSBMYW5ndWFnZSA6IHd3dy53b2xmcmFtLmNvbVyipoUAAAAhdEVYdENyZWF0aW9uIFRpbWUAMjAyMDoxMjowMiAxODoxMDoyMGyqq04AAAJ8SURBVFiF5Vc7kqMwEH1MzVHEBC6fQJyAmWQip2Qi9CbOHDpzAiGTOXXkxK0T4BNQBKjvwgbYmI/A9ixV66l5EVLr0++p1S1QTgFDkZIqMlYjqSHL4HKGyNinjJj+N17w7+B4WwDIBge0Lcxaa62ZW81mjzGuLwQA1rrqqz+EcIujmcDp6TGFlGKZLD9m7b6aexc6DLZwXRfbINQAx8EWru8Wm00B0VsZhyDUrMPg0Dc+G16/N40vEQQh+hyZ2QBg7lu5wGLlCwGxWhyODBdApdL8zSKWn+wKz90sTOp/z9HHwcx2VrfGvQAAx55TwYvtsTQhsry6nybPAJh8Pivi8Pi2S6xi8TGfK+yPt93i2JvAe60fyB7m2NzwFeA4yNdl6QMce24Qf6TLm0fSOjWOw2D/dToh8PJ1mvgQQsCY66DTfhvmAGarZLlcw/PCwzzLZrtUgGfZZp8BCHLsEr+zsQ6D/DNNEh16oU7tYk+OOyLyPKyjeqsIkQIUdXvqLlKAfLAaj8NE8rw4qXplQzSyh4kisvdLi28mkhemV2Kkmgq0ZhE9QJ+iZqslpYlkR8nLCorKktTEOpZlWRpSUkopm08pQzT2GIrsQlukNJGsXb5+N3j0KXWkLEfpD0rZD8mmSxgyPgv6UnYig1TVelDKEfptKc+PIY495x1UDqYjKeWA5cfB/1SnP67jOI7znkW724UBd9K/qD4ccueja96WZ8S9F9yeUy+wXvAh+t0L3kjMFVqiNlOtieTUZWdCdHjU1awOrNrxdtXplNl+2RmmP1J2fgXaJaGbLW25cngpW678rdCHL/tv1ncwxUH/LLQyQS+9GiIafdcOjvsLOpjd2CZxewoAAAAASUVORK5CYII=\"></div></div></div>"
      ],
      "text/plain": [
       "         2\n",
       "4 x + 9 x\n",
       "       3\n",
       "    2 x\n",
       "------------\n",
       "          4\n",
       "Sqrt[1 + x ]\n",
       " x       2    x                  x       2\n",
       "E  Cos[x]  + E  Cos[x] Sin[x] - E  Sin[x]\n",
       "       2\n",
       "Sech[x]\n",
       "   -1 + Log[x]\n",
       "2 x            Log[x]"
      ]
     },
     "execution_count": 113,
     "metadata": {
      "text/html": [],
      "text/plain": []
     },
     "output_type": "execute_result"
    }
   ],
   "source": [
    "D[3*x^3 + 2*x^2 - 5,x]\n",
    "\n",
    "D[Sqrt[1+x^4],x]\n",
    "\n",
    "D[E^x * Sin[x] * Cos[x],x]\n",
    "\n",
    "D[Tanh[x],x]\n",
    "\n",
    "D[x^(Log[x]),x]"
   ]
  },
  {
   "cell_type": "markdown",
   "metadata": {},
   "source": [
    "## Sexta parte\n",
    "Integrales."
   ]
  },
  {
   "cell_type": "code",
   "execution_count": 118,
   "metadata": {},
   "outputs": [
    {
     "data": {
      "text/html": [
       "<div><img alt=\"Output\" src=\"data:image/png;base64,iVBORw0KGgoAAAANSUhEUgAAABwAAAAgCAIAAACO148VAAAAqXpUWHRSYXcgcHJvZmlsZSB0eXBlIGV4aWYAAHjaVU7bDQMhDPtnio6QBzgwDroDqRt0/Bo4VaoV4sSyI9L4vGd6LajVlEtUNECI3HKzzqHKgbNUVIycH8l+vHV99HROiFivVZaoZ5/33HhOSvYwFGhk9mwSgca5cmJHSSYlMHEBNCpuk3yRByIYQ6CYeF/BBRvx7x5w7jd/5OayX3cl97Uxql634keh8Qs+VztDbiQKIQAAAAlwSFlzAAALEwAACxMBAJqcGAAAADx0RVh0U29mdHdhcmUAQ3JlYXRlZCB3aXRoIHRoZSBXb2xmcmFtIExhbmd1YWdlIDogd3d3LndvbGZyYW0uY29tXKKmhQAAACF0RVh0Q3JlYXRpb24gVGltZQAyMDIwOjEyOjAyIDE4OjEzOjAyoicHDgAAATxJREFUSIntljFygzAQRXczPgCHgBQeTgAngCo3oJPKqEnngiIHQKVLX0KcIDfwuLD2LkohNJFQPMiQSYr4V7CreVrpSwtgkqWHCgCYml4VA6dq0MFISEUqBhVj1Rc0mCzEPkGSRt6eh9Pb/la+fM7919QqB21r8ip1GzBffUqlI29BfbzmUaI5WsbhUiAf76nU2hNqXppbiVOyUW6C2KiImWrUd5uCTu97He4OGmPWcm9qdaUP6O9Cd4sj+r5PAQkhsiyzz/ZIEZGXz/P4St6lHQAQaa394Fbq4/D/GZRkjYhhK55iiFhLCkanQEeOHZxm3ZpkdzlMXRZEF2K3dmjbpMPMD+wpXc/AXhovsnxNFzTyQpTK+Mxt7pOssQVljk0YXw8lWReijIkASUZ5f00AYE2Jvty+U//87n8CJQsvVdiY8I8AAAAASUVORK5CYII=\"></div>"
      ],
      "text/plain": [
       "  43\n",
       "-(--)\n",
       "  12"
      ]
     },
     "execution_count": 118,
     "metadata": {
      "text/html": [],
      "text/plain": []
     },
     "output_type": "execute_result"
    }
   ],
   "source": [
    "Integrate[3x^3 + 2x^2 - 5, {x,0,1}]"
   ]
  },
  {
   "cell_type": "code",
   "execution_count": 119,
   "metadata": {},
   "outputs": [
    {
     "data": {
      "text/html": [
       "<div><pre style=\"&#102;&#111;&#110;&#116;&#45;&#102;&#97;&#109;&#105;&#108;&#121;&#58;&#32;&#34;&#67;&#111;&#117;&#114;&#105;&#101;&#114;&#32;&#78;&#101;&#119;&#34;&#44;&#67;&#111;&#117;&#114;&#105;&#101;&#114;&#44;&#109;&#111;&#110;&#111;&#115;&#112;&#97;&#99;&#101;&#59;\">&#49;</pre></div>"
      ],
      "text/plain": [
       "1"
      ]
     },
     "execution_count": 119,
     "metadata": {
      "text/html": [],
      "text/plain": []
     },
     "output_type": "execute_result"
    }
   ],
   "source": [
    "Integrate[1/(x^2),{x,1,Infinity}]"
   ]
  },
  {
   "cell_type": "code",
   "execution_count": 121,
   "metadata": {},
   "outputs": [
    {
     "data": {
      "text/html": [
       "<div><img alt=\"Output\" src=\"data:image/png;base64,iVBORw0KGgoAAAANSUhEUgAAABYAAAAPCAIAAABvD6g/AAAAq3pUWHRSYXcgcHJvZmlsZSB0eXBlIGV4aWYAAHjaVU/bDcMgDPxnio7gF2cyDkpA6gYdvweJKvUEvodsC8r4vGd5Lai1EjUbDkCIOOKwTtHkhvOoqBg5nsh+vHN98nKvELHemqxQbz+vufGslPA0VGgGa5hk4qBuVKyoxaQmJk6AjYrLJE7yQCbHkKgm3tfggo387x5w+osvcnPZt7uS+3IcVW87AWt1frV8AT6rO1G7FjfwAAAACXBIWXMAAAsTAAALEwEAmpwYAAAAPHRFWHRTb2Z0d2FyZQBDcmVhdGVkIHdpdGggdGhlIFdvbGZyYW0gTGFuZ3VhZ2UgOiB3d3cud29sZnJhbS5jb21coqaFAAAAIXRFWHRDcmVhdGlvbiBUaW1lADIwMjA6MTI6MDIgMTg6MTY6NTgIW+pnAAABHklEQVQokaVTK5KEMBRsViFzAxAsGknVGuzWGI4Qt7iBE6BRDDdA4sAMcwUkkgIEDhw4cFmRLWYYPkXVtnl59Tqdl86LwBjDDoZhcBxHkqTNqmmamqYBANtHHMd93x8QOD72WgDQNA0h5IDAcSRxErsSwzCcaeFIIssywzD+JVEUhSzLQB18Ce/4eSyo3NW+713Xbdt29tn3/afp1e2WvsatF4miiFIahiFPp2kSRfF5TgV8vsati1iWJcsyIaTrOm6Erusz6VHiogCoS6jKsReUUs/zuBF/kwegDkr1ut65LSGKoiRJeZ5P0zR3ENzV6zdfKxeUSycBrAZ8HEfbtmcvqzStFvXqLWeMCWz1zZIkIYScHAoAGxJYv8ghfgGBhgZyE8hb8wAAAABJRU5ErkJggg==\"></div>"
      ],
      "text/plain": [
       "Sqrt[Pi]"
      ]
     },
     "execution_count": 121,
     "metadata": {
      "text/html": [],
      "text/plain": []
     },
     "output_type": "execute_result"
    }
   ],
   "source": [
    "Integrate[E^(-x^2),{x,-Infinity,Infinity}]"
   ]
  },
  {
   "cell_type": "code",
   "execution_count": 122,
   "metadata": {},
   "outputs": [
    {
     "data": {
      "text/html": [
       "<div><pre style=\"&#102;&#111;&#110;&#116;&#45;&#102;&#97;&#109;&#105;&#108;&#121;&#58;&#32;&#34;&#67;&#111;&#117;&#114;&#105;&#101;&#114;&#32;&#78;&#101;&#119;&#34;&#44;&#67;&#111;&#117;&#114;&#105;&#101;&#114;&#44;&#109;&#111;&#110;&#111;&#115;&#112;&#97;&#99;&#101;&#59;\">&#50;</pre></div>"
      ],
      "text/plain": [
       "2"
      ]
     },
     "execution_count": 122,
     "metadata": {
      "text/html": [],
      "text/plain": []
     },
     "output_type": "execute_result"
    }
   ],
   "source": [
    "Integrate[1/Sqrt[x],{x,0,1}]"
   ]
  },
  {
   "cell_type": "code",
   "execution_count": 125,
   "metadata": {},
   "outputs": [
    {
     "data": {
      "text/html": [
       "<div><img alt=\"Output\" src=\"data:image/png;base64,iVBORw0KGgoAAAANSUhEUgAAADEAAAAgCAIAAAA0dAd1AAAAqnpUWHRSYXcgcHJvZmlsZSB0eXBlIGV4aWYAAHjaVU7bDcMgDPxnio7gF2cYByUgdYOO3yOJKvUEvodsy2V+3qu8NtRaiZoNHRAienQbFE1uOJ+KipHjiezHV65PXu4VIjZakx3q7de5LjwrJTwNFZrBGiaZ6NSNihW1mNTEwgGwUXGaxEGeyOQYEtXExx7csJn/3RNOf/IiN5frD1fy2I6j6u1KOqv7Pv0LPp07Sm+gzgYAAAAJcEhZcwAACxMAAAsTAQCanBgAAAA8dEVYdFNvZnR3YXJlAENyZWF0ZWQgd2l0aCB0aGUgV29sZnJhbSBMYW5ndWFnZSA6IHd3dy53b2xmcmFtLmNvbVyipoUAAAAhdEVYdENyZWF0aW9uIFRpbWUAMjAyMDoxMjowMiAxODoxOTozMAi51YUAAAGNSURBVFiF5Vc7coMwEN31cAAfAlz5BHACkiaVW3e4hCa9+zSoJF1aV24sTgBHcIF0l00BhF+MZSxhz/hVsDMLT29XTysg4xCxCwAQcNWEBZhFusMt/FS0FGGak59QFtq35ZjmNAWWti/JlJ0KgNV76KvqUqUMcrS1MueXm1jE7uUe53EsZu3xKZhh3yGiE+Xw/YaIuEuv5+jrp//hJ0TJjTmvWLspqDiVZUdERI/Jx1ICC0Ayz4nWnMh/MJcaC5CnQx7wZEBIMq+WrtksraA5PS15OuTuxhkScg4bQZldPntMZKEN6Ve05pQpC7rf73uRKIqWy+WVNBG74PaMtO+7PKjexsaOMR8fxdDH7dUa8rNQW7cdZkREH0dV+5uGavG9pbfVU1FSq07lGcyDhmT9+yb2R6gzmvULqJuTDmjsJ1M9cQdm4CSZd9t+eD2dJPPaw5Oi+ZvlZIdZ1zaU7jDPWDuNc2ZxZEUx4d5yPsNnN36nKykZUDA8B8YwB6eW/ytxQyLSVz49eMYef0ZOv36hoaoyyw6aAAAAAElFTkSuQmCC\"></div>"
      ],
      "text/plain": [
       "    1\n",
       "Cos[-]\n",
       "    t"
      ]
     },
     "execution_count": 125,
     "metadata": {
      "text/html": [],
      "text/plain": []
     },
     "output_type": "execute_result"
    }
   ],
   "source": [
    "Integrate[Sin[1/t]/t^2,t]"
   ]
  },
  {
   "cell_type": "code",
   "execution_count": 126,
   "metadata": {},
   "outputs": [
    {
     "ename": "Integral of `1` does not converge on `2`.",
     "evalue": "                1\n            Sin[-]\n                t                           2\nIntegral of ------ does not converge on {0, --}.\n               2                            Pi\n              t",
     "output_type": "error",
     "traceback": [
      "\u001b[0;31m                                                           1\n                                                       Sin[-]\n                                                           t                           2\nIntegral of `1` does not converge on `2`.: Integral of ------ does not converge on {0, --}.\n                                                          2                            Pi\n                                                         t\u001b[0m"
     ]
    },
    {
     "data": {
      "text/html": [
       "<div><img alt=\"Output\" src=\"data:image/png;base64,iVBORw0KGgoAAAANSUhEUgAAAFwAAAArCAIAAAB6qnh2AAAAq3pUWHRSYXcgcHJvZmlsZSB0eXBlIGV4aWYAAHjaVU/bDcMgDPxnio7gF2cYByUgdYOO3yOJKvUEvodsC8r8vFd5bai1EjUbOiBE9Og2KJrccB4VFSPHE9mPr1yfvNwrRGy0JjvU269zXXhWSngaKjSDNUwy0akbFStqMamJhQNgo+I0iYM8kckxJKqJjz24YTP/uyec/uSL3FyuO1zJYzuOqrcr6ax1f6t8AT65O1D4caeVAAAACXBIWXMAAAsTAAALEwEAmpwYAAAAPHRFWHRTb2Z0d2FyZQBDcmVhdGVkIHdpdGggdGhlIFdvbGZyYW0gTGFuZ3VhZ2UgOiB3d3cud29sZnJhbS5jb21coqaFAAAAIXRFWHRDcmVhdGlvbiBUaW1lADIwMjA6MTI6MDIgMTg6MTk6NTRZjrYaAAAD20lEQVRoge2aMXajOhSGf+a8BWQJKSQXHK9ArIC4SeU2qVApGndTpEhHg0rcpXXlxmgFzAp8KJD2olcw2MaQ2CQY40m+CoMQ8Pvq3qsrOdZa/FDn17VfoIGSXEoplamfNkpyj8ujszBKSsmb57/Ef3121g+TR+H7R+eMjAoA20Zj4gvhKyl7fYPxWUorRCRi5g71tEFEMdJzHK6GeFQvdBLFSO55XsvI3l33nIob0qCJ7YDW2lqrY8Zi3bwYM7Sd70qapi1PjgPGAICxoHk5jXt47gGdLIUQUh5MJ+TcexRvmo7iDpeVVXnnRA4ikiyz1tosS46dcP90jj5GRvnvRDQvEPEWryh1QhbrTOxE8xNrEyM9mtdaL8M8tdaH4s5DpMSJL315edkdh2F4d3fX9bU70U0UI3mExXtfQERmBYz0qBOiLk2DIC17oS5D/m6rikNRBqB9+BjJ/3KYRClOw+V29fSRry2lsWnwJ4xu1tW2WYqSm1lSjRBjDFD+435ibXJWr6bYgs1pT+84OE1RjCwmYj9Ads712Iafn5/v7+/3vxV3Hpa7X0FqBQFgpEfDPwCAB2cJBKkdwFN+lYvHt660huQTt1w6JJsC58fbf5QbmfsARnE5lOce4Sy5BWPUZr1duWoCUOqTC5vyCEUpCgWA+v7+0wmhExfTCaUUdUWMUVoXOfqNdMdORsdxq6PTMTu4q2UCcmF03DbruQxn+xQisjIw6DTVtxBWWzElJ1p1cbQK8AFd5XLDQmbz7WuZY3+6D2P0Joq03hz2YaR3XOc436cYBXpN+yAiy77aBfFnbqEpoD9sd64oSmlaVk79ymRuCKN4tAaAx8fDmuY+3X5wlgCqWey5ovj7WrLfKCsDg09k36OtsKBkhCRJAMBIbz3ZFXuJyKww0qP575qX7C0kj0SUFtQ6f6zmsWQ2dz8eOsANZbRfwHU7ZjHfQBQKbHZBWOfHJS0ymWJb1KL0NxCFiBkiLpUxSso1UGzy/FAEfxEjpLV6cTNzbM9oB0LHAWOMBf2XL8qliLMYnaXMFlmWvbmrp36Xhw+rZScZmyifWUXpneuK0pJio1pFuWJ6ODZLObGKMhANfzSQo62XIoByyTUNADB2IV97Lm2iaGutTeOAMRZcViEdsyuUZk7SGD5lEqz4KxZZli3wetPbBz7HsSiqwIzAFJjPiFH8aXWc7X0H6qIYWUwEAXS+XT15UbHI3ubTCz69JcUeBVancRCnaZrGwc637begpMFlx/ze3/axt6UnHFtuGTWmXiZX3HvFdLrdum8fbR74N6lE+eGA0SVvY+BHlBb+B725et0kWkBQAAAAAElFTkSuQmCC\"></div>"
      ],
      "text/plain": [
       "              1\n",
       "          Sin[-]\n",
       "              t          2\n",
       "Integrate[------, {t, 0, --}]\n",
       "             2           Pi\n",
       "            t"
      ]
     },
     "execution_count": 126,
     "metadata": {
      "text/html": [],
      "text/plain": []
     },
     "output_type": "execute_result"
    }
   ],
   "source": [
    "Integrate[Sin[1/t]/t^2,{t,0,2/Pi}]"
   ]
  },
  {
   "cell_type": "markdown",
   "metadata": {},
   "source": [
    "## Séptima parte\n",
    "Graficación."
   ]
  },
  {
   "cell_type": "code",
   "execution_count": 129,
   "metadata": {},
   "outputs": [
    {
     "data": {
      "text/html": [
       "<div><img alt=\"Output\" src=\"data:image/png;base64,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\"></div>"
      ],
      "text/plain": [
       "-Graphics-"
      ]
     },
     "execution_count": 129,
     "metadata": {
      "text/html": [],
      "text/plain": []
     },
     "output_type": "execute_result"
    }
   ],
   "source": [
    "Plot[3x^3+2x^2-5,{x,-5,5}]"
   ]
  },
  {
   "cell_type": "code",
   "execution_count": 131,
   "metadata": {},
   "outputs": [
    {
     "data": {
      "text/html": [
       "<div><img alt=\"Output\" src=\"data:image/png;base64,iVBORw0KGgoAAAANSUhEUgAAAWgAAADkCAIAAAA6gimVAAAAq3pUWHRSYXcgcHJvZmlsZSB0eXBlIGV4aWYAAHjaVU7bDQMhDPtnio6QFw6Mg+5A6gYdv+buVKkW2I6VRCnz817ltaHWStRs6IAQ0aPboGlyw/lUVIwaT2Q/vXJ98nKvELHRmuxQ73qd68KzUsLTUKEZ5DDJRKdvdGTUYlITCwfARsVpEgd1IpNjSFQTH3tww2b+d08465MXublcf7hSx644qt7ozZ3szqvLFz6FO0tg01pVAAAACXBIWXMAAAsTAAALEwEAmpwYAAAAPHRFWHRTb2Z0d2FyZQBDcmVhdGVkIHdpdGggdGhlIFdvbGZyYW0gTGFuZ3VhZ2UgOiB3d3cud29sZnJhbS5jb21coqaFAAAAIXRFWHRDcmVhdGlvbiBUaW1lADIwMjA6MTI6MDIgMTg6MjM6MzbJx+oEAAAXM0lEQVR4nO3dX0xbV54H8BMWD3/qGgIm3AuOcYEmkFLGgSFE/Tc7XU0qaIXYStOHzGo6QmmumF3NSts+7K7UIDwPM9o/Gu08LLrpyNqtNH2YSDsITYMmq6UzbRLFmYZ4LCZAChlwDL4EQ43rYrNmyT7chJrwJza+9rnn3O/nKfK/+0sw35xz7u+ee+D+/fsEACAdebQLAJ2SJIl2CaBf+bQLAP3azA5ZlulWAnqD4IBdIS9gN5iqAEDaEBwAkDYEBwCkDcEBAGlDcBiH1y25vTs9KkmSJLmGFQo1AaMQHMbgdUvSgGenxwcC3f2yLPfaBs8jOiBVCA4jUIaDLbLc31297YlgoLrtuEAIcba0zwURHJAiBIcRCB0dzt2es4mC+hpxW6xMzCxlsShgGRrAjC4QVIhTIEQJzhGREELIdCD83pCPEPLTH//j5svQDAbJMOIwNEG0zf3+pkII8Y56qkWBEN/U4oWRyb99o4UQIsvyP/3rz45888xf9b5Lu1LQFwSHMXnd6lkUZ0+vbbBPkqSBQPfZjvuh6ODHn/3wjRbRalZfV2IuePt02xXfHKYtkOwALqsHVWJ948fvX/t+Z5NdsBBCJEnanJ6sRNf+5YPfv3O6rcRcQLVG0AuMOOCBX1+ZfrauQk2NR5SYC159rvaDS+O5rwr0CcEBhBCyEl27/IfAa8/X7faCk01V86GoX4nksirQLQQHEELIh1fvnDrhMOXv9X3ofunpwY8/y1lJoGcIDiAr0bUbE8rL36jZ+2WtDZWL4RgGHUAQHEAI+cQbONlUtfdwQ4VBB6gQHEA+GvV/q8Weyiub6ytmlchKdC3bJYHOITiM7sbEQo1gsZYWbX9KvWw2+RFTft4LX7eN3PDnqjrQKQSH0V3xBZ5vtu34lCzL2zvNX/y67fIfAtmvC3QNwWFoK9G1qUC4taEy9bdYS4sqSovRSGpwCA5DuzY2f7KpKt13nTgmem4Fs1EPsALBYWieW8H2Y2K67zrZJN6YWEisb2SjJGACgsO4QuHYSnStzlaa7huLC001gmUcsxUDQ3AY1/7mKaoTx8TrmK0YGILDuMbuhJ6tte7vva0Nlb6pRcxWDAvBYVCr8cR8KFpnO7i/txcXmqylRWg/NywEh0H5phYbHeV7t5lvbwBL1o5zKwaGPUcNauxOqOlx85S99xltdJSrW5OCAWHEYUSJ9Q3f1GJafV/b2QXLajwRCse0qgoYguAwounA51VWc3GhKcPPaa6v8E0talISsAXBYUSjt+8dP3Io8885fqTy5u2FzD8HmIPgMKLxmaVGR3nmn9PoKJ8KhHFS1oAQHIajLkzsuClxukz5eTWCZTrweeYfBWxBcBjO+Mxyo6NMq087WlM2Prus1acBKxAchnPz9sLxIxmdT0nWWFM2ieAwHgSH4Wi1wKGqsx2cVSJY5jAaBIexqG0XO24UuN3enaMqU35eo6MMJ2WNBp2jxpLWcCPFO9QftZdN+pczbCcDtmDEYSyT/uWjds1WRlX1toNTOLFiMAgOY9F2gUNlFyzB0JdY5jAUBIeBrMYTq/H1FBc4UoduDgNCcBiIth0cydDNYTRYHDUEr1sa8BBCrM+8fmaXp6q7+891CPv8fHul5YoPN1sxEIw4DMDrHgh098vyoVrzH6/+QdnpKbnXNnh+WNntEx6n0VE2PoMRh4EgOPinBAPVbcct8UTogNiuLG9JB0Gs3vyzTdzvgAM7CRoOgsMQbKIwPrPc6DiclBOEEEKEjnNdwT5JkobE/h5nJododJTjhgnGgTUOQwgElYPFXxyuXAv+D0m+/5Iy7OoLdslyD1GGXZK7S94SHslto49tBjt86MlJP2YrRoHg4J8g2uaGbhJH2RvCzE+rn+rc+my1OkERRBt5dOfhFDtHVY2O8sGPP8uwVGAFgsMAnD1vfSq9d4X8lFR39/9AIIQQr9sV7DzXIXScbXP1SYOEENLeK2cyV1HbQ0LhmOZ9IqBDCA5DOPTaPx/a8P3o7AsPH3D2nFNTQug4J3dodBS19xzBYQRYHDWEbHSab1dbVXJnfiXbRwE9QHAYQjaubdsOJ1aMA8FhCPOhL6usT2T7KHbBEgrHVuOJbB8IqENw8G81nliJrolWcw6OVSNY0AZmBAgO/k0FwvW20twcq85WOhUI5+ZYQBGCg3/Tc+Ha6hwFR21V6Z15BAf/cDqWf3cXIs832/bxxs3O0dQ7wRodZT/HnagNAMHBv/GZ5TNdzft4Y1qdo6riQlNxYT7awLiHqQrnQuFYcWF+5veXTl2NYJnF+ijvEBycmwp8Xm87mMsjYpnDCBAcnLszv1JbVZLLI9bbSqdxYoV3CA7O5abZPJkdUxUDQHDwLLG+EQrHctP6tQm7gRkBgoNnfiUiWp8w5ef6p4z1Ue4hOHiW+5VRFdZHuYfg4Nnde18cPvRk7o9bj8Zz3qEBjGezSuTUCce+376PzlGVaDWHwrHE+kbuZ0mQGwgObq3GE6FwzC5Y9v0J++gcVZny80TrE34lUperi+sgx/AfArdyeVHsdriFPd8QHNwKhqI5PhGbDNsI8g3Bwa3c94wmwxlZviE4uDWrRGoyWODIkGg1r0TXsI0grxAcfMrldoG7wTaCHENw8MlPdbihwjaCHENw8GkqEKZ+KhT9oxxDcPDpzny4topycGB9lGNoAOPTrBI5fSrTqcq+O0dV1tKi1fj6ajyRy/3HIDcQHBxajSdW4+uZ7/q5787RTepFK831FRl+DugNpiocGp9ZbnRk/YaPqbDjxAqnEBwc8i9EDldSPqWiwvoorxAcHLq7ELHrIzhwfT2vEBwcont5W7IScwEhZCW6RrsQ0BgWR3mj/paqv7GbvG5pwEMIqe7uP9chbHm9MuzqG5wjhJD2XrnHqXk96qCjtaFS808GijDi4M0Ol6h43QOB7n5Zlnttg+eHla1P9QW7ZFmWZbmXDLi92tdzuNLiX8D6KG8w4uCN77PFRy5RUYKB6rZOgRDibGkfGFUIEZKeaidEkgYIIaS9V9Z+wEHslZYrvoD2nwtUYcTBm7nFLxzioyujNlHNCkGs3vK4EpzzkBZ1xNEvDmVjxIH1US5hxMGbuVD0maesjzwYCCrEKRCiBOeImPS4IFa3i86Hf7Y9fNkDm52jJINmsM310UeWXYBpCA6u7LgyKoi2uaGbSkeH4B31VIudW5/yjHp7nE5CiBIMPByYPJB556gK66P8wVSFKzufiHX29NoG+yRJGgh0n1VPqnjdrmGFEOLs6ReHJEmSJOk8OZuFkyqEoA2MRwfu379PuwbQzIWRyaKv5b/2Ql3mHyVJklYjDt/U4n9fn3n7dJsmnwZ6gBEHV/xKJJP7IWQJ1kf5g+Dgin56RpMVF5pKzAXBUJR2IaAZBAc/QuFYcWG+Pje/wKY+nEFw8IPWLaZTgduscAbBwQ+6N1LZG3Y85wyCgx962Nl8N3W4IyRf0ADGj6nA53WaTlUy3HM0mSk/T7Sa9XnSB/YBwcEJvxIRrWZTvpZDSK36OFTq+iiCgw+YqnCC7g0fU4H+UZ4gODihhxup7A1tYDxBcHBCn61fyUSrORSOJdY3aBcCGkBw8CCxvhEKx+jeYvqxTPl5ovUJnJTlA4KDB34lIlqf0HZlNBvqcVKWF3r/qkEq9NwzmuzwoSfv3vuCdhWgAQQHD+7e++LwoSdpV/F4uGKFGwgOHuj/XKzKLlhC4dhqPEG7EMgUGsCYtxpPhMKxbDRWadg5ukm9aKXBUa7VBwIVCA7mZe8SFW07R1V2wTKL4GAfpirMY6uP+6i9bNK/TLsKyBSCg3mT/uWj9jLaVaQK66N8QHAwj5WVUZW1tGg1vo71UdYhONi2Gk+sxtetpUW0C0lDo6NsfAazFbYhONg2PrPc6GBmnqLCbag5gOBgm38hcriSmXmKyl5puYvgYByCg213FyJ21oID19dzAMHBNhanKiXmAlN+Xigco10I7B8awBiW7RupZKNzVKWelGVrTReSITgYlu0TsdnoHFWp2wji/vXswlSFYfrfLnA39bbSaSxzsAzBwbBp3W8XuBs7+kcZh+BgGFtXqSTDbahZh+BglV+JWEuL9HmL6VTgohWmIThYNT6z1JjyxeletyRJkiS5hpWdX6AMu3Z9LjuwjSDTEBysSmO7QK97INDdL8tyr23w/E7x4HX3Dc5pXN/jYH2UaQgOVqU+4lCCgeq24wIhxNnSPhd8NDiUYdeQ2N/brn2Je8JtqJmG4GDSSnQtsb6RegOVTRQIIYQIYvUjz3jdfcGucx2CpuWlYvM21Dk/MmgADWBMSve+bYGgQpwCIUpwjohJjyvDQx4y55E8hBBCPC7Sn5whm52jJDvNYI2O8vGZJUZPDBkcgoNJae36JYi2uaGbSkeH4B31VIudyU91nJM7CCGEeN2uYOcjI4/sdY6qjtrLrvgCr5x8KqtHgWzAVIVJ6d2BydnTaxvskyRpINB9Vs0GrzvHJ1F2gh192IURB3sS6xvB0JdpjfCdPbLcs/WBc06y5wM5sNkGpvO73sJ2GHGwZzrweY1g0f+dYlOBvTkYxcOXz2imAuE6Ni9R2Q53S2AUgoM97F4Uu516YoV2FZA2BAd7WNz1azfW0qLE+sZKdI12IZAeBAdjgqFoibmA3WvbtsMyB4sQHIxJt/VL/7DMwSKcjmVMLm/4mL09R5M1OsrfG/Jl7/MhGxAcjBmfWep+6encHCvbnaMq0WoOhWOJ9Q0+TjAbBH5ULFFvKcDZ5uCm/LwawTKNK2WZguBgCVv3l07d0Zqy8Vksc7AEwcGSXC5w5FJjTdkkgoMpCA6WpLVdIEPqbAdnlUhifYN2IZAqBAczVuOJUDjG5e4VWOZgDoKDGTw1jG5XhzYwpiA4mMHrAofq2Vrr2J0Q7SogVQgOZvimFpvrK2hXkS1Y5mALGsDYEArHEuv/l+MNb3LTOaraXOZo4HH1lz8IDjZQOZ+Sm87RTWo3B4KDCZiqsIHvBQ5V69HK0ckF2lVAShAcbOC1gyOZXbCEwrHVeIJ2IfB4CA4G+JVIcaGJs0tUdtRcX+GbWqRdBTwegoMB/O3BsZsmnJRlBIKDATdvLxw/Ukm7ilzAiIMVCA69S6xvTAXC3C9wqErMBSXmAtxQVv8QHHrnm1psdJQZZ5Mb7HvOBKN8Hdk1dmexqZbbhtHtWo4cunn7Hu0q4DHQAKZ3vqnFV5+ro3LoXHaObtrsPTfOIItFCA5do3siNsedoypTfl5zfcWNCeVkU1Xujw4pQqjrGt8Xtu0GJ2X1D8Gha2N3Qs/WWmlXkWutDZW+qUVcKatnCA79Wo0n5kPROttB2oXkWnGhqcpqxoZgeobg0K8bEwvN9RXGXCM8cUz03ArSrgJ2hcVR/bp+K/jtEw5NPsrrlgY8hJDq7v5zHULyM8qwq29wjpAdn6Snub7iw6vTtKuAXRnxfzMmrMYTs0pEm4ZRr3sg0N0vy3KvbfD8sLLlqYuDtl5ZltUnL3o1OJomrKVFpvw/C4aitAuBnSE4dErDeYoSDFS3HRcIIc6W9rngluBw9sg9TvWPglid+bE01P6MeO2PmK3oFIJDp67fCp44Jmr1aTZRnYLsHg5ed1+w62GG6MLJZ0QPgkOvsMahR1rOUwghhASCCnEKhCjBObI9jbxuaYD0yttiY7NzlNBoBhOtZlN+nl+JcHkrGdYhOPRI2/MpgmibG7qpdHQI3lFPtdi55Ull2NUX7JLlncYaVDpHk7UfEz23gggOHcJURY+0nacQZ0+vbbBPkqSBQPdZ9byJ1+0aVgjxuvsG54hnQFK5tq6cUvei0/aJN0C7CtgBRhy6o/k8hRDi7JHlnq0PnHMSQoRHH9eXEnNBldU8MbOErc/1BiMO3bk2FmxtqDRm39d2zzdXX/bN0a4CHoVvp+5c9gVeaLbRrkIvTjZV3ZhYwHUreoPg0JdgKLoaX68zxtbEqdi8yp52IbAFgkNfPhq9+62Ww7Sr0Jfnm6uvYLaiMwgOHUmsb2ADm+2a6yvmQ9FQOEa7EPgKgkNHbkwo9baDJeYC2oXozrda7B+N+mlXAV9BcOjIb3U2T5Eeol0IedFpuzY2jyVS/UAfh174lciX8YSuGhaod45uKjEXNDrKr43Nv+jE+SZdwIhDLy5dnzml0e4bXDp1wnHp+gztKuABBIcurETXxmeWsCy6B7tgKTUX4AaROoHg0IUPr945dcKBbtG9/XmL/bdYItUHfFPpw1nYFLU2VC6GY7izrB4gOOgb+XS2tUHAWdhUdL/09ODHn9GuAhActCXWNy5dn3n1uVrahbABgw6dQHBQhuFGujDo0AMEB00r0bVL12e+8/JR2oWwpLWhcjW+PjGzRLsQQztw//592jUY1weXxsstha+cfIp2ITugu+Ho3vxK5L0h34/OvkC7EONC5yg1fiUyPrOk52+/3vJik12wVJQW3ZhYaG2opF2LQWGqQs1/XBz7fmcT7SpY9WZn04WRydV4gnYhBoXgoOM31/5UbzuIDXv2rcRccOqE48LIJO1CDArBQUEoHPto9C7WRDP08jfsoXAMTehUIDgo+Pf/uvlWVzMazDN3pqv5wsjkSnSNdiGGg+9url0YmWw5UolJiiZKzAXdLz39nxfHaBdiOAiOnLo2Nh8Kx157oY52IfxobagUreZfX56mXYixIDhyZzoQ/u3o3TNdzbQL4c13Xj6qLH+Je77lEoIjR0Lh2C8u3ep93YmljWx4s7Pp5u0FLJTmDDpHc8GvRD64NH6mq9laWkS7llTpuXN0R4n1jR+/f+27p45h/SgH0DmaddOB8IWRSbZSQ8VEXmwy5ee9c7rtZ78c/fYJBzpKsw3D5uz6xBu4MDL5wzdamEsNFhUXmt4+3XbFF/jV73D5bHYhOLJlNZ74+ZBv0r/89um24kIT7XKMwpSf98M3WgkhLvfVYChKuxxuYaqSFZ94Ax9evfPqc7XYzp+Kv/zm0811Fe8N+VqOVL5y8iksSGsO/6AauzY2/+75y5P+5X/4XjtSg6I6W+k7p9ti/7v+7vnLI5/6cTMnbVEODj3cJUwTK9G131z7kyRJN2/fe6ur+UxXMzb1oq640PSdl4++c7rt7r3I3/x17weXxrmZvFD/xdEyOKj/ZXJvOhD+zbU/udxX3z1/eSkSJ4T0vu60C5bUP8GA/2iP2Me/QFpvsZYWvdnZRAgptxT+2y9H3z1/+cLIJHYtzdCuwaHbL3S2v2d7vCuxvjExs/SJN/Cr3332k/c9b7ou/uLSraVI/Lunjv3s7/7i9KnGfRxFk8Ky8Zb90e3XhhDyysmnfvKDl97qai76Wv57Q743XRd/8r7nwsjkJ97AxMzS9q09tPraZOMt+6BtYXstju5jW0em37IYjoVWYsmP/HzIFwrHCCFfxhN+JWLKz6u3HbSWFpWXFHW/VP/332tPtwygzi5Y7IJFvVxoYmZpKhCe9C9f8cVmlchqPGEtLaooLd58cfJp3caashQPQfErnZd3YGNj15ZODTdqPXD//n09/y8BAHojyzJazmFnkiSx1TkKuYTTsQCQNgQHAKQNwQEAadNLy7ky7DpPzp7rEGgXkgll2NU3OEcIIaS6u5/xvwwvOPyh6OGXRR8jDq/74c+WZd6Lg7ZeWZZlWe61DV700q4HCI8/FH38suggOJRh15DY38t+T4SzR+5xqn8UxGq6tcADnP1QdPPLQj04vO6+YBcXA8iveN19wa6HX1fQBx5+KDr6ZcnpGocy7D7/+4c7ytrazvZ0kOEhD5nzSB5CCCEeF2FmErr976LW7XVLA6RXZvwbyhk+fiiKnn5ZdNMA5nW7gp2spMYulGFXX7CL9e/nA8ztOboLrn4oD+jgl0UvZ1U48GDRauDB/wisL+GzHBZf4eyHoh+6GXEAADuoL44CAHsQHACQNgQHAKQNwQEAaft/sA3+0K7ngI4AAAAASUVORK5CYII=\"></div>"
      ],
      "text/plain": [
       "-Graphics-"
      ]
     },
     "execution_count": 131,
     "metadata": {
      "text/html": [],
      "text/plain": []
     },
     "output_type": "execute_result"
    }
   ],
   "source": [
    "Plot[E^(-x^2),{x,-5,5}]"
   ]
  },
  {
   "cell_type": "code",
   "execution_count": 135,
   "metadata": {},
   "outputs": [
    {
     "data": {
      "text/html": [
       "<div><img alt=\"Output\" src=\"data:image/png;base64,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\"></div>"
      ],
      "text/plain": [
       "-Graphics-"
      ]
     },
     "execution_count": 135,
     "metadata": {
      "text/html": [],
      "text/plain": []
     },
     "output_type": "execute_result"
    }
   ],
   "source": [
    "ContourPlot[x^2-2*x*y-y^2==1,{x,-5,5},{y,-5,5}]"
   ]
  },
  {
   "cell_type": "code",
   "execution_count": 136,
   "metadata": {},
   "outputs": [
    {
     "data": {
      "text/html": [
       "<div><img alt=\"Output\" src=\"data:image/png;base64,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\"></div>"
      ],
      "text/plain": [
       "-Graphics3D-"
      ]
     },
     "execution_count": 136,
     "metadata": {
      "text/html": [],
      "text/plain": []
     },
     "output_type": "execute_result"
    }
   ],
   "source": [
    "Plot3D[4*x^2*E^y-2*x^4-E^(4*y),{x,-3,3},{y,-1,1}]"
   ]
  },
  {
   "cell_type": "code",
   "execution_count": 137,
   "metadata": {},
   "outputs": [
    {
     "data": {
      "text/html": [
       "<div><img alt=\"Output\" src=\"data:image/png;base64,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\"></div>"
      ],
      "text/plain": [
       "-Graphics-"
      ]
     },
     "execution_count": 137,
     "metadata": {
      "text/html": [],
      "text/plain": []
     },
     "output_type": "execute_result"
    }
   ],
   "source": [
    "ParametricPlot[{t^2-3*t,t^3},{t,-4,4}]"
   ]
  },
  {
   "cell_type": "markdown",
   "metadata": {},
   "source": [
    "## Octava parte\n",
    "EDOs"
   ]
  },
  {
   "cell_type": "code",
   "execution_count": 139,
   "metadata": {},
   "outputs": [
    {
     "ename": "For some branches of the general solution, the given boundary conditions lead to an empty solution.",
     "evalue": "For some branches of the general solution, the given boundary conditions lead to an empty solution.",
     "output_type": "error",
     "traceback": [
      "\u001b[0;31mFor some branches of the general solution, the given boundary conditions lead to an empty solution.: For some branches of the general solution, the given boundary conditions lead to an empty solution.\u001b[0m"
     ]
    },
    {
     "data": {
      "text/html": [
       "<div><img alt=\"Output\" src=\"data:image/png;base64,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\"></div>"
      ],
      "text/plain": [
       "                    2\n",
       "          Sqrt[1 + x ]\n",
       "{{y[x] -> ------------}}\n",
       "            Sqrt[2]"
      ]
     },
     "execution_count": 139,
     "metadata": {
      "text/html": [],
      "text/plain": []
     },
     "output_type": "execute_result"
    }
   ],
   "source": [
    "DSolve[{y'[x]==x/(2*y[x]),y[1]==1},y[x],x]"
   ]
  },
  {
   "cell_type": "code",
   "execution_count": 140,
   "metadata": {},
   "outputs": [
    {
     "data": {
      "text/html": [
       "<div><img alt=\"Output\" src=\"data:image/png;base64,iVBORw0KGgoAAAANSUhEUgAAAFsAAAAgCAIAAADysZPMAAAAqnpUWHRSYXcgcHJvZmlsZSB0eXBlIGV4aWYAAHjaVU7bDQMhDPtnio6QFw6Mg+5A6gYdv+buVKlWiB3LiSjz817ltaHWStRs6IAQ0aPboGhyw1kqKkaOx7IfX74+frlPiNhoTbap97zOdeE5KeFpqNAM9jDJRKduVOyoxaQmFg6AQcVpEgd5IpNrSFQTH3txw2b+pyec88kfublcb7iSx564qt6ow3H7DH4BPp87SlJcCwsAAAAJcEhZcwAACxMAAAsTAQCanBgAAAA8dEVYdFNvZnR3YXJlAENyZWF0ZWQgd2l0aCB0aGUgV29sZnJhbSBMYW5ndWFnZSA6IHd3dy53b2xmcmFtLmNvbVyipoUAAAAhdEVYdENyZWF0aW9uIFRpbWUAMjAyMDoxMjowMiAxODo0NjoxMkQCSQ0AAALCSURBVGiB7VmxluIgFH3s2Q/wI0iKOX5B/AJiYzXtdlAmzXQWFnbTkDLT2doHvkC/wGMR+Be20FmjwBpDxsnm7K3MDb4kF3jvAmBGA0HhhISrgDA/YRTQxSzavipjcHAoZIzp4Y2+GZKh9YvaZeF6APzoIca3Q9eH5DWuZgghhNCs0CHBRqEIAOzzNWxO6WSa/wrR5EoRWbCikNoK5+MHhIRvznOGLOj+qBq3tJQFY7ZIPr6Rq7k7R/v4AUHxBKj489NVbFp/XbPWxLE7M/n44QBnGz6LEAIAACpMSIodSfUFnO1M1kuksWTW/tC/IlrrVjm4bbtno29FpFT3G31CVWHW4UvwBbMGY9wmsbVr9Xw8rIguZg1XeH1lQzKEEJOXi46GUstCdvlfB1xqja5rIMTxMtc8zpY0X1c6yzCArrZ7utz5O5uURgBK2cKUwNID77r2wGSuWCHLzPGCsFqtbpg8zyeTyRUVASgA++E2f7Y4gnPhcDBOXtCzB1I8uTVDQginfwL4tFAtXJMxxigbglNuR28NwanrE2/506zRqgaIbAHdPHnjsK00yPd8umzX50mStGnWfLKN+gjHunsqjuClrhzl7Za/22FOXtCEc+rqdmuMnEeUy10/tD5QnIasJhR3jy+Lv2RWEsfOwunkyWKa5x904ZrWTUiG0gPfZBhwtuGQR90zazUvQ8y5Aoha8QEuPuFv9wQBUl42pEKMNiZZPx79PropIln6QUUPW3gDxMN+RDKEUHrgqnQOkCgCKaW8OzW0llJCPB+eqA+PEVIaU/pvY0xaOtZ27Z6PUax9+3LGADCS/ZG+nDEAXI+R2mN/fPyQQErFDylCKYjAQ4qGImQO78yxv+zjhwePM9ZaFqyOLaE8vOXhPL7Qxw8Ef3HGD36Spci/CEEvh72KJ2Env+M45ewTo6i+veK/Irf4DcesF0RFgO8FAAAAAElFTkSuQmCC\"></div>"
      ],
      "text/plain": [
       "          6\n",
       "{{y[x] -> -}}\n",
       "          x"
      ]
     },
     "execution_count": 140,
     "metadata": {
      "text/html": [],
      "text/plain": []
     },
     "output_type": "execute_result"
    }
   ],
   "source": [
    "DSolve[{y'[x]==-y[x]/x,y[2]==3},y[x],x]"
   ]
  },
  {
   "cell_type": "code",
   "execution_count": 141,
   "metadata": {},
   "outputs": [
    {
     "ename": "For some branches of the general solution, the given boundary conditions lead to an empty solution.",
     "evalue": "For some branches of the general solution, the given boundary conditions lead to an empty solution.",
     "output_type": "error",
     "traceback": [
      "\u001b[0;31mFor some branches of the general solution, the given boundary conditions lead to an empty solution.: For some branches of the general solution, the given boundary conditions lead to an empty solution.\u001b[0m"
     ]
    },
    {
     "ename": "For some branches of the general solution, the given boundary conditions lead to an empty solution.",
     "evalue": "For some branches of the general solution, the given boundary conditions lead to an empty solution.",
     "output_type": "error",
     "traceback": [
      "\u001b[0;31mFor some branches of the general solution, the given boundary conditions lead to an empty solution.: For some branches of the general solution, the given boundary conditions lead to an empty solution.\u001b[0m"
     ]
    },
    {
     "ename": "For some branches of the general solution, the given boundary conditions lead to an empty solution.",
     "evalue": "For some branches of the general solution, the given boundary conditions lead to an empty solution.",
     "output_type": "error",
     "traceback": [
      "\u001b[0;31mFor some branches of the general solution, the given boundary conditions lead to an empty solution.: For some branches of the general solution, the given boundary conditions lead to an empty solution.\u001b[0m"
     ]
    },
    {
     "ename": "Further output of `1` will be suppressed during this calculation.",
     "evalue": "Further output of DSolve::bvnul will be suppressed during this calculation.",
     "output_type": "error",
     "traceback": [
      "\u001b[0;31mFurther output of `1` will be suppressed during this calculation.: Further output of DSolve::bvnul will be suppressed during this calculation.\u001b[0m"
     ]
    },
    {
     "data": {
      "text/html": [
       "<div><img alt=\"Output\" src=\"data:image/png;base64,iVBORw0KGgoAAAANSUhEUgAAAKAAAAAkCAIAAACBjKa0AAAAqnpUWHRSYXcgcHJvZmlsZSB0eXBlIGV4aWYAAHjaVU7bDQMhDPtnio6QFw6Mg+5A6gYdv+buVKlWiB3LiSjz817ltaHWStRs6IAQ0aPboGhyw1kqKkaOx7IfX74+frlPiNhoTbap97zOdeE5KeFpqNAM9jDJRKduVOyoxaQmFg6AQcVpEgd5IpNrSFQTH3txw2b+pyec88kfublcb7iSx564qt6ow3H1zuAXPs07VEGvRTcAAAAJcEhZcwAACxMAAAsTAQCanBgAAAA8dEVYdFNvZnR3YXJlAENyZWF0ZWQgd2l0aCB0aGUgV29sZnJhbSBMYW5ndWFnZSA6IHd3dy53b2xmcmFtLmNvbVyipoUAAAAhdEVYdENyZWF0aW9uIFRpbWUAMjAyMDoxMjowMiAxODo0Njo0Oa6nZMAAAASiSURBVHic7Zs9dqs8EIaH79wFZBHCRY5XACsQblzdNp1Uyk26FLdIl0aUuEubKo3RCsgKfFww2ou+AhMbkPhxcOwQP1U8EkLk9UiaYewZY+DGdPnv0hOYFlrxMAzDkCvdo2/MQx7XO2pdWnQchlx9cUY3gUeF0CTLsuz1/vmlQxkdv+QAsK2bFQIpO+zm8y/PaHoCq/jIKRT3SsKGr/RFx6Hneb19SWv1spsvaWVOjYuJSMTivm5VCJQU93zZLZPlaRM+ZmoC6ziHBfn8SBNTgBJWDydJrLj/NmdB/xkgwj1s348lpbO8KbHlUgU+BSjlpV39+zAxgfVmNxPE0Tif2Vu0cu+Yikdb+frYcLX94lC6teKfSwShlIrHvzWFF/DeqbBG8Mn+Kbbb5zAMo/U6+uo2bKYESpnWTCkrnjOQ6Loqla62lBXXoQyA1UcuxmbpoZsxKBljjLGA1YesTw0lCwIAgCDYj5ymjTukzHLXYUxLYLdUn2JUQUTEVMoUEbF+acrKKxwCFw1gG3jQ3Ir2tLX5VCpLtIp5HCvdWK9c9p8EXTLY5tVH0BoREfPdLkdExEqrjp/XsI48z/M8f/UB68h+UAuC/vtz6wSpa2upopWKeTO6ctq7v2JdX70rwrJElxyW0WZT5wO6l+hAokEZtO0AnVM7hd5iHXvwzHEIcdmvDzKDipMeRUnP95g5j1+noLgXbeWrIEDEq4SV3x6HIYA/4t178+cSNz0fdAaxAlEGGDQxJum+SIiOHkRkjYQuTQ5JXiIy0zqGjvOZGCXsGcrEwiSgC8i/mt0bH7WBxUXkPYfAWutex7G+/QZCxMK/ttOg9hej7g5DGFtgpbB/Z9ycnD5sgZBrOzJcckZnWKJJv+e5Ph0myWCBdRwehYPVT01c+bzBd7Wk62/04XCK1nkO1HISqNmJeGKr540WggDozdsHe8rcrkgTk4IX8aVJgEdbeWqoQugCeawS60n0379/p4z5c1itVnd3dxWTD4AAzf9l074Pw1Mpbakyq/0zZ4AyqAf4loSqO5/XlmHAJqlkoyYLfjapZNbkZs1eLNEac9i/yahgt9NHCW8bDeplNX/q55GD83naInC+g11+bSfki+HDfb6xxCF1+5HyAzKVKQukZDanbHhwSz5vUBIUZeMNzS/Glfls2A+HLDqbWSMcq50u56vVmi27oveB+TwnWsWbRXKxYPL6cGU+G/YvhEmBfOzMztDEmPJcRUR2+DAQQsWl1f2eGrnROS0XrXi0Zqn5RQ7VUiN3KKIaoUZudAZ7sOKe50VbifaSId8HpVpKYEq0VkrBbPFTviPfVSM3OoM9uOMFDSG0Zx6rX7+LoLgXrYs/g5bQvVYjJ0C9f9cM+zO1t0mj0K8W8zw1cmMzsffBZ6CoxdQxf3hbf3zAQ7h7yhJaLM/FLkVEkgkAAMU5JONUu47GsQfnjiyCyz5h9qUg/tvf/VmDiCTLjDEmywpDuTwfQ69NXYBK2SxKxtJGbaHb/guw12JeFlfO1m5vlM26hPydArfV6l2KYQp55vbz0RYUH79a73u5naKbnLMW89u5efDEuXnwxLkJPHH+B/mlYXrxktHYAAAAAElFTkSuQmCC\"></div>"
      ],
      "text/plain": [
       "                  3 1/4\n",
       "          (3 + 4 x )\n",
       "{{y[x] -> -------------}}\n",
       "               1/4\n",
       "              3"
      ]
     },
     "execution_count": 141,
     "metadata": {
      "text/html": [],
      "text/plain": []
     },
     "output_type": "execute_result"
    }
   ],
   "source": [
    "DSolve[{y'[x]==x^2/(y[x])^3,y[0]==1},y[x],x]"
   ]
  },
  {
   "cell_type": "code",
   "execution_count": 142,
   "metadata": {},
   "outputs": [
    {
     "data": {
      "text/html": [
       "<div><img alt=\"Output\" src=\"data:image/png;base64,iVBORw0KGgoAAAANSUhEUgAAALIAAAATCAIAAAC7qMB0AAAAqnpUWHRSYXcgcHJvZmlsZSB0eXBlIGV4aWYAAHjaVU/bDQMhDPtnio6QFw43DroDqRt0/Jo7VKkW2I6VRFDG5z3La0GtlajZcABCxBGHdZomD5xHRcWosSP76Z3rzsuzQsR6a7JCfep5zRt7pYSnoUIzyGGSiYO+0ZFRi0lNTJwAGxWXSZzUgUyOIVFNvK/BBRv53z3grC++yM3lvt2V2lfFUfVGH5v5hfIFPsU7T7ux7N0AAAAJcEhZcwAACxMAAAsTAQCanBgAAAA8dEVYdFNvZnR3YXJlAENyZWF0ZWQgd2l0aCB0aGUgV29sZnJhbSBMYW5ndWFnZSA6IHd3dy53b2xmcmFtLmNvbVyipoUAAAAhdEVYdENyZWF0aW9uIFRpbWUAMjAyMDoxMjowMiAxODo0ODo0MtmqynsAAAPHSURBVGiB7Vk9cqswEF5nchRJhScnUE4g07hK6w6VuHGXMl0aUfK6tKncIJ2AnMBDweouvML2Mz8SBoPH9uR9HasV2k+sVp8ElHUglk747I8B1CHnnPNQY8Os9K1imgZXovAEJ5hYGnDAZ38cEJFkWZZ9zT8+/zGx1qTb3XdhjDHWdvU28Z3S91CwcezhY00sXW0teyUtDLBEENLq47M/GKw1n/nLUhyfCaFsDi+MUkq72Nm4YMLffEt4KJAAUnciExEtIW3nRcv+1HIZC2tt9+Ib6DcmjMoYFhHmsNtW5otQAABCOlPepnCvWQE+CiSAYlyBmzotjMGmycavM/cuhKmv2k0PIoSINm+1vOgBmwLQvr7x62yP1wt4GTmbjeheA2FQjHrF9NXi3PKruE0/dj2KPQDAxlJKKeUqf9tUlj4J3nYfUkrpFw8IEPSL08ar/H0vAxWsV4O/rEiOKnJIdw8FwVx7xQCc1KfWbknbsOsQAEJ9euAKfc6oeH20mm+plep5wEHdobdRq5BzzsOw7+t6A9UlOl+HpxlqvlDrczGi4s7eg2h6A/fNed0+vFqIpNThn4U0AEYudgqzyLucSJTVaXb4doKIANxr2sYyLQDesyxLkgA7Fv4lwP5bSCWkYgfh0i1IsCi8/Q7bCP1+w6TZezjNfMw2ckwLa+ICHEycdpGg2i1mswXoS7/zWdgGgG5Y0Z4Nk8KG5fmSHpyW+UixNTCwdruRdP2iW9/1pLHRJ7aP28h7TptibDBNwubuBsHg0zhGr9ufDyFjASxoO/vsAMA5/+mMbBQsYku7FjnkYEG0EnF+mgK6uVaeHuJqBlaTSDZ+pesXXTqTAhEBijwHxlodaxDLED6KNtFpaFIGaWpp1By+bj+7GznsOgSusETFG2LBLVAO7v33OSdQufZUVKHSzpZJMCRCVNwrKQa90DFfg2m6Z6ssS/QEgB5tQfZJ3ELTbuRssVNfEQESfSlY07PHKbFRsKajjl7WxGmQOFYIiRJW5LvvlYyNMbGU0lUhLwYFaBUtT4Txav0D8GdxPGUOvBmunE8/5i29dgHNOXPWEx+dhr2SpP1OIt0Y5jykWnQDEa/y22bCEKdAb5reuPudRJ57JvO941q3IPtycTc3/31p2mLc3ezU11mUgjHmfCG31hgDrOdV0e0w/h75Fhh9Yz91tSCk31+1vn43x/6/k7jf3yIO2BRYNOoNlWpBi61TEPrsvwQkYA9WLzpqhTVbcEnRlr2haNx3sz77L8F11OzV4At3wNedlWV5lZT9j0fGX0z8swmG/tO4AAAAAElFTkSuQmCC\"></div>"
      ],
      "text/plain": [
       "                  t\n",
       "          -2 + 3 E\n",
       "{{x[t] -> ---------}}\n",
       "             3 t\n",
       "            E"
      ]
     },
     "execution_count": 142,
     "metadata": {
      "text/html": [],
      "text/plain": []
     },
     "output_type": "execute_result"
    }
   ],
   "source": [
    "DSolve[{x''[t]+5*x'[t]+6*x[t]==0,x[0]==1,x'[0]==0},x[t],t]"
   ]
  },
  {
   "cell_type": "code",
   "execution_count": 143,
   "metadata": {},
   "outputs": [
    {
     "data": {
      "text/html": [
       "<div><img alt=\"Output\" src=\"data:image/png;base64,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\"></div>"
      ],
      "text/plain": [
       "                     t    3 t           3 t\n",
       "          -(21 - 32 E  + E    Cos[t] - E    Sin[t])\n",
       "{{x[t] -> -----------------------------------------}}\n",
       "                               3 t\n",
       "                           10 E"
      ]
     },
     "execution_count": 143,
     "metadata": {
      "text/html": [],
      "text/plain": []
     },
     "output_type": "execute_result"
    }
   ],
   "source": [
    "DSolve[{x''[t]+5*x'[t]+6*x[t]==Sin[t],x[0]==1,x'[0]==0},x[t],t]"
   ]
  },
  {
   "cell_type": "markdown",
   "metadata": {},
   "source": [
    "## Novena parte\n",
    "Iteraciones y recursividad."
   ]
  },
  {
   "cell_type": "code",
   "execution_count": 153,
   "metadata": {},
   "outputs": [
    {
     "data": {
      "text/html": [
       "<style>\n",
       "\t\t\t\t\t\t\t\t\t\t\t\t\t.grid-container {\n",
       "\t\t\t\t\t\t\t\t\t\t\t\t\t\tdisplay: inline-grid;\n",
       "\t\t\t\t\t\t\t\t\t\t\t\t\t\tgrid-template-columns: auto;\n",
       "\t\t\t\t\t\t\t\t\t\t\t\t\t}\n",
       "\t\t\t\t\t\t\t\t\t\t\t\t</style>\n",
       "\n",
       "\t\t\t\t\t\t\t\t\t\t\t\t<div><div class=\"grid-container\"><div class=\"grid-item\"><pre style=\"&#102;&#111;&#110;&#116;&#45;&#102;&#97;&#109;&#105;&#108;&#121;&#58;&#32;&#34;&#67;&#111;&#117;&#114;&#105;&#101;&#114;&#32;&#78;&#101;&#119;&#34;&#44;&#67;&#111;&#117;&#114;&#105;&#101;&#114;&#44;&#109;&#111;&#110;&#111;&#115;&#112;&#97;&#99;&#101;&#59;\">&#48;&#46;&#50;</pre></div><div class=\"grid-item\"><pre style=\"&#102;&#111;&#110;&#116;&#45;&#102;&#97;&#109;&#105;&#108;&#121;&#58;&#32;&#34;&#67;&#111;&#117;&#114;&#105;&#101;&#114;&#32;&#78;&#101;&#119;&#34;&#44;&#67;&#111;&#117;&#114;&#105;&#101;&#114;&#44;&#109;&#111;&#110;&#111;&#115;&#112;&#97;&#99;&#101;&#59;\">&#48;&#46;&#56;&#55;&#53;&#53;&#57;&#49;</pre></div></div></div>"
      ],
      "text/plain": [
       "0.2\n",
       "0.875591"
      ]
     },
     "execution_count": 153,
     "metadata": {
      "text/html": [],
      "text/plain": []
     },
     "output_type": "execute_result"
    }
   ],
   "source": [
    "x[0]=0.2\n",
    "Do[x[N]=4*x[N-1]*(1-x[N-1]),{N,1,100}]\n",
    "x[100]"
   ]
  },
  {
   "cell_type": "code",
   "execution_count": 156,
   "metadata": {},
   "outputs": [
    {
     "data": {
      "text/html": [
       "<style>\n",
       "\t\t\t\t\t\t\t\t\t\t\t\t\t.grid-container {\n",
       "\t\t\t\t\t\t\t\t\t\t\t\t\t\tdisplay: inline-grid;\n",
       "\t\t\t\t\t\t\t\t\t\t\t\t\t\tgrid-template-columns: auto;\n",
       "\t\t\t\t\t\t\t\t\t\t\t\t\t}\n",
       "\t\t\t\t\t\t\t\t\t\t\t\t</style>\n",
       "\n",
       "\t\t\t\t\t\t\t\t\t\t\t\t<div><div class=\"grid-container\"><div class=\"grid-item\"><pre style=\"&#102;&#111;&#110;&#116;&#45;&#102;&#97;&#109;&#105;&#108;&#121;&#58;&#32;&#34;&#67;&#111;&#117;&#114;&#105;&#101;&#114;&#32;&#78;&#101;&#119;&#34;&#44;&#67;&#111;&#117;&#114;&#105;&#101;&#114;&#44;&#109;&#111;&#110;&#111;&#115;&#112;&#97;&#99;&#101;&#59;\">&#48;&#46;&#50;&#48;&#48;&#49;</pre></div><div class=\"grid-item\"><pre style=\"&#102;&#111;&#110;&#116;&#45;&#102;&#97;&#109;&#105;&#108;&#121;&#58;&#32;&#34;&#67;&#111;&#117;&#114;&#105;&#101;&#114;&#32;&#78;&#101;&#119;&#34;&#44;&#67;&#111;&#117;&#114;&#105;&#101;&#114;&#44;&#109;&#111;&#110;&#111;&#115;&#112;&#97;&#99;&#101;&#59;\">&#48;&#46;&#49;&#49;&#54;&#55;&#51;&#49;</pre></div></div></div>"
      ],
      "text/plain": [
       "0.2001\n",
       "0.116731"
      ]
     },
     "execution_count": 156,
     "metadata": {
      "text/html": [],
      "text/plain": []
     },
     "output_type": "execute_result"
    }
   ],
   "source": [
    "x[0]=0.2001\n",
    "Do[x[N]=4*x[N-1]*(1-x[N-1]),{N,1,100}]\n",
    "x[100]"
   ]
  },
  {
   "cell_type": "markdown",
   "metadata": {},
   "source": [
    "## Decima parte\n",
    "Otros."
   ]
  },
  {
   "cell_type": "code",
   "execution_count": 159,
   "metadata": {},
   "outputs": [
    {
     "data": {
      "text/html": [
       "<div><img alt=\"Output\" src=\"data:image/png;base64,iVBORw0KGgoAAAANSUhEUgAAAd4AAABMCAIAAABMJUFoAAAAq3pUWHRSYXcgcHJvZmlsZSB0eXBlIGV4aWYAAHjaVU7bDQMhDPtnio6QFw6Mg+5A6gYdv+buVKlWiB3LiSjz817ltaHWStRs6IAQ0aPboGhyw1kqKkaOx7IfX74+frlPiNhoTbap97zOdeE5KeFpqNAM9jDJRKduVOyoxaQmFg6AQcVpEgd5IpNrSFQTH3txw2b+pyec88kfublcb7iSx564qt6oqye7ezL4BT7VO1OWsmWKAAAACXBIWXMAAAsTAAALEwEAmpwYAAAAPHRFWHRTb2Z0d2FyZQBDcmVhdGVkIHdpdGggdGhlIFdvbGZyYW0gTGFuZ3VhZ2UgOiB3d3cud29sZnJhbS5jb21coqaFAAAAIXRFWHRDcmVhdGlvbiBUaW1lADIwMjA6MTI6MDIgMTg6NTc6MzeDgpHVAAANeElEQVR4nO3cX0gb2R4H8N9IIqshsLtNK9xlWUijd2OUPtylUIWw3VBQi7RsRXwTL11FoVGQi6UUJFC6liJoyqZsKit9E9FSkZpAkJZALRTugzRpbJwb6Muyaha2zbrWpuvch5n8nxknMWmm9fuhDzo5OfOb8zvzy8yZWIbjOAIAADXRJH+KxWKxWGx3dzcej5cxIACAw0ar1VZWVup0uk8//ZTfwnAct7OzE41GKyoqqqurKysrNRqNfC8AAFBE7969i8fjOzs7b9++NRgMOp1OQ0TRaFSn0+l0unKHBwBwGGk0Go1GU1VVtbu7u7W1VV1dzfzxxx/b29tHjhwpd2wAAECvXr2qqKio+PPPP6urq8sdDAAAEBFVVVVtb29rdnZ2Pv/8c/EmobnRmWdERNTY5egwF7KX0Nzow2OXBqyGIrYEAPhoVVZW7u7uavb29ioqKkRej/pdM9TlcJiJKOr3h8hcUG0GAIB8SX8ZY2tzo+bYUf5ngxUXswAA7410aTZbGmdmZv31iSWGqN91a/N0Yl1DWH44+mj04bGuhsDM8gZRY5fj2y3XreUNIqqxpa1NbPn5ramNUWELHWCtBADgYyW2lCEwdzguNQRujY6OzoWIyGA93fgsGOJfCwWfNZ7mq+zG8kPqdDgcXY3PZkZnqdPhcDi6GjeWHwlNkw0u2Wh51h8lotDcreVjXQ6Hw+G4ZNuccfmjJT1GAIAPjExpJiKDdYCvnqNzISKzJVGbQ8FN27fCpW6NrdNqICKzpZFqGuoNJPy8uRXNbGCwnm7c2Nwiim5tUqPFLOxB2AgAAAnypZmIiAzWTlvNs2CIyPytbfOhPxr1P9wUanBeolubBUQIAHDoSJfmkD+xzhB9HhCeCBrqGyjw6FGA8qnMG4Hn0UQ3jRYzkeHoMUosjUT9D58lrqABAICIZB8DHt0cHR3lf27scvALywbr6WOjM9TlyOOauebY5uzo6AbfjZmIyNxxyea6xXdeY7s0gMoMAJCOefHixVdffaX8DaG50aAF36kAACiVly9fKlhrThf1P0w9AAQAgJJQ/v9/8l9FrrFdGsBfnwAAlFTeCxoAAFBS+S9oAABA6WmIKBAIlDsMAAAQ6PV6DRH988S/yh0JAAAIfo2EsaABAKA6KM0AAKqD0gwAoDoozQAAqoPSDACgOijNAACqg9IMAKA6KM0AAKqD0gwAoDoozQAAqoPSDACgOijNAACqg9IMAKA6KM0AAKqzf2n29TN2b/I3j13b7GITv3n79P2e7I08dtImbBR7tcR8/Yxe8U59/Yxem36MRVSGYy+SokWumlzISk3X/TZKei+5Lt1p5e3Taxm9dTKS31FLdJL70nsrCAXFz0+89H82Z5nP2/1L85lzvdMLHuEXNhyklfklIehIOHDSXCv+NtPgcvzxgEm2a2+fXsvY+hOJ9E4qGlAFzc4MT5w81dkiv/dk49tLPdTb3pLcwLr6m8tTIA4ya4sweiU5Zw6Wi5JKO97UdBXdWF75hFTgNPDY2909i1zMP2hUdNSiUyWtk9x35DGYB5uHBWXtzG0uFudi8aUearoR4mJxbtle5sQrWNAw1Z8MhvnqGVmatYxPUGidiIhY7xxdaDvYAVxcWr7NJ5J1LZCCE1hRs8jSrOWK2PwQ5b0/ffH8mdTvpoHbj+9dVPhmlSjm6BXXwXIBeTnINGj6uggToyidAJGy0nz2As16WeJr8ddtdZap+z4iovW1Jw21yUywk7aMGwGpVQ7+fqHPl7HdY9fWjkwJe+EvWm39HiKKOPtS3WY0k8F654gWmtPuo1lff7Ney+itqf1GvH02LaPv9/gW3DTVJoTETtpEb8eyg2dd1rTLam8ffxOXui3q92S+OX00Uj9ntvfYtW3TtDJiTrw9e7hYl1Von3FFX5zRy9k75eY0NySPXdvscvZJ3wOWJhfksWub7f3NqZa5UXnlg886Xj4pohvFcy0xmSUaSxxCzpTIHU/RkMT6K3wapHaR2GMqmMQgp889samS3UnuuZAbueh8ljkLxG5kU1N0MmMM88uaZIIShy9+/ubTW96UPAY01VpW1lgiWl+jzhZTa/vFwDqbdYGzMnKd7sS52GLv0+GbElF67ObZCyEuFudiizSWfhqbWofGm3oWHw+YWJe1e+3c3Vh8yRIMR4j1zgUuJO8vUs1k4/XeHKHOoduPV8dpfoklYl3W2jHz3VicW+0I8PuNOJt/uF5/J87FzoXHpnrvxbl7/EGZBi931CkIngaupNZ5fAvuniuDxvTboqlrSu7IMtu3OpP3U7dbRYbLe3PEshSLc7E450y/5S/O6GXtncRyKprBlZHQ+ZhU6kuSC95K0Hw3Fv/5jFRUfPChCRruFs7YjGa1OccrOghEZBLLtdRkFm2cl6zxFA1JTOHTILWLnLv4xCBnzD3RkLI72f9cEJ/PuWfBkGWRi8W5WGgi2N6cvQ6TePUOzU5nDkc+WZOSnGOi8u0tP4q+oSEsN3vvT1vqjETHzTS/xGYuNDfd+GXQSEQt53sosC7+qR4O8h+GWkbf7n4qrIoIr3nnGtpbiLw35y1XnaZ1l/UaXRk0kmngl861JTa7mSzfQiDjfPDeHKGJO+lzjp38Ya7zjrAi9vyp8AHDf/ywVFcrci7lBt9yvke4e/AsBieG+Kj4xyDatuncHkTJtM/do6n+5FSbxJVp0UYvTU5OxTPYdGO4lUg89SXJRSI8YTFNKio+eNPg5Ysra5LBK5Oba5neRCdGHuTGU1YppkFikCXnnrR9zwUlfbLhYPLZQzKV6a+eEkbYaL/ak/XevLImrkluwfYgM0oBZV+eM9WfDIZ94UDPuVYiMrZ1UuhBQQvNvffi/Gdp5iUA+2Ce6o8T+RbcT6fa9P++T1fuDiXy4ay7KdyYJJrJ8iwGO4daKLkU7ltwn+w4yy9ne+dWLHUm3/hQYvXTY7/u5g/quLmJiMi7flxyrS4r+Nah8cCYk404rwX5/tlJWzvdi3Ox+PqNUwoGY//2mXs0DS7HuTvUnbOgUcTR25dEBsWVLhfKo2LXg4UFny4n13K9iTYuvZJOA6m5JxmMgnMh3z7zllfWClPc3jIoLM1nL9DQ98MkrPGb6ixTQyPpC82KOqmzkFv8sp99Th11/Nj1jK/H/D+3hLsnvKyrv89HRKb64HV+nSjVTJL3frDjrJFYn7N73nJ1wJQ4z4n1ObtHKO0qhvW4nPfpSer7AMHwpI9axfsXC97Y1klzNyfmGi7zl4Hs86en6o8TEftg/knW+2u/PpX4wPfen04ctXR7yeEy2h+vjjcFw2nbizh68mQyKKpEuVAUVeJ7ROyDeb7bfIPPlJ1r2d4SjeWvXcSmxEGUfhqIzD3pYOTmtvI+TXUWci8KHyqTY1OZ394x1VmeDE14iYgizmu5Y5hX1mSJJUukt2J+x0nhn5yYWjqaKPUVqNb2i0R5P0lvdYYmaLg290GZb8FNobCPpTPDE8HhWr22eaLurrNlfW3K/b2W0ZuFR/zJZgLRZyym85a5Wr22dix09c7tViIy2q8mt6z6B41Ex8/1TrcztnFqaasPniJiiYiMdQ1PQ3VnJG/0xII3nb1A7mlLYhxa/nODhk5oGf2/n1uyrxRMA1d6p9sZvZbRL1CPZPvW9ovJByA5exTuEJkTw4mpVuTRS997fhkUV6xcyD1Mk4qqyRLq1msZvXnIssivFeY2Ez1eiUHIyrX8UJgGL1vc05arqfVckUMQmxISB7hfXogKngYKZc+9/UKSOxek+hQ93lZnaCLIj5J59kIoa9m31bkojOEP1CkyhnllTY5osgruTRHmxYsX/zDKPGwpJW+ffuF8wTcCvn5m8VzmA7EDiDgn/2cfTCa+uJ2rkJoP8MC58Ni1174OlfMryVkxq3m0PxLspM38/LLkI7sPzK+RcLn/UDt4ze70SF8QyfAsThXlbxNYV/+kzzvpbUvWAtbn7BsLyr7pg1es0Suu3FyQWkOVxU6OZTwA/AAP4UPjGx8SllA+FmW9aiaKsCyRyVjOr6mzLmv3WsddZ8bXBtgIkdGEb8+/Z2K5KEQZr5pZl7V25EnTjbJesx8a/GjzP/fe+1gumYno10i4zKUZAACyqGBBAwAAcqA0AwCoDkozAIDqoDQDAKgOSjMAgOqgNAMAqA5KMwCA6qA0AwCoDkozAIDqoDQDAKiOhoherP633GEAAIBAr9driKihoaHckQAAgODly5dY0AAAUB2UZgAA1UFpBgBQHZRmAADVUVSaV1dXs7asr6+XIBgAACBSWJp///336enpeDzO/zozM4PSDABQOopK83fffdfY2PjTTz+9fv3a7XZ/8cUXbW1tpY4MAODQ0ihs98033xgMhh9//LGrq+vEiRMljQkA4JBjwuHwl19+yTBMuSMBAAAi/k9OPvnkk7dv35Y7EgAAICL6+++/NRpNRVVV1Zs3b8odDAAAEBG9efOmqqqq4siRI9vb2+/evSt3PAAAhx3Hca9evTIYDBUMwxgMhs3NzVgstre3V+7AAAAOI47j/vrrr99+++2zzz7TarUMx3FEtLe3F41GX79+jeoMAPD+MQyj0+kMBkNlZSURCaUZAADU4/94+c2DPAcPHAAAAABJRU5ErkJggg==\"></div>"
      ],
      "text/plain": [
       "While[test, body] evaluates test, then body\n",
       " \n",
       ">     , repetitively, until test first fails to give True. \n",
       "\n",
       "\n",
       "Attributes[While]={HoldAll, Protected}"
      ]
     },
     "execution_count": 159,
     "metadata": {
      "text/html": [],
      "text/plain": []
     },
     "output_type": "execute_result"
    }
   ],
   "source": [
    "?While"
   ]
  },
  {
   "cell_type": "code",
   "execution_count": null,
   "metadata": {},
   "outputs": [],
   "source": [
    "a = 12348;\n",
    "b = 14238;\n",
    "aux = Min[a,b]; a = Max[a,b]; b=aux;\n",
    "While[b != 1, aux = Mod[a,b]; a = b; b = aux; ]\n",
    "Print[a]"
   ]
  }
 ],
 "metadata": {
  "kernelspec": {
   "display_name": "Wolfram Language 12.1",
   "language": "Wolfram Language",
   "name": "wolframlanguage12.1"
  },
  "language_info": {
   "codemirror_mode": "mathematica",
   "file_extension": ".m",
   "mimetype": "application/vnd.wolfram.m",
   "name": "Wolfram Language",
   "pygments_lexer": "mathematica",
   "version": "12.0"
  }
 },
 "nbformat": 4,
 "nbformat_minor": 4
}
